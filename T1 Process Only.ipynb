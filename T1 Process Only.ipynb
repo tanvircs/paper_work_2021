{
 "cells": [
  {
   "cell_type": "code",
   "execution_count": 2,
   "id": "moved-demonstration",
   "metadata": {},
   "outputs": [],
   "source": [
    "import numpy as np\n",
    "import matplotlib.pyplot as plt\n",
    "import pandas as pd\n",
    "from sklearn.model_selection import train_test_split\n",
    "from sklearn.preprocessing import StandardScaler\n",
    "from sklearn.svm import SVC\n",
    "from sklearn.neighbors import KNeighborsClassifier\n",
    "from sklearn.metrics import confusion_matrix\n",
    "from sklearn.model_selection import cross_val_score\n",
    "import seaborn as sns\n",
    "from sklearn.ensemble import RandomForestClassifier, AdaBoostClassifier\n",
    "from sklearn.tree import DecisionTreeClassifier\n",
    "from sklearn.naive_bayes import GaussianNB\n",
    "from sklearn.gaussian_process import GaussianProcessClassifier\n",
    "from sklearn.discriminant_analysis import QuadraticDiscriminantAnalysis\n",
    "from sklearn.neural_network import MLPClassifier\n",
    "from sklearn.metrics import mean_squared_error\n",
    "from sklearn.ensemble import RandomForestClassifier\n",
    "from sklearn.metrics import accuracy_score\n",
    "from math import sqrt\n",
    "from sklearn.metrics import f1_score\n",
    "from sklearn.metrics import recall_score"
   ]
  },
  {
   "cell_type": "code",
   "execution_count": 3,
   "id": "portuguese-pressure",
   "metadata": {},
   "outputs": [],
   "source": [
    "df = pd.read_csv(\"T1_Process.csv\")\n",
    "df['SE Process grade'].replace(to_replace=[\"A\",\"F\"], value=[\"1\",\"2\"],inplace=True)"
   ]
  },
  {
   "cell_type": "code",
   "execution_count": 4,
   "id": "981b688e",
   "metadata": {},
   "outputs": [
    {
     "data": {
      "text/html": [
       "<div>\n",
       "<style scoped>\n",
       "    .dataframe tbody tr th:only-of-type {\n",
       "        vertical-align: middle;\n",
       "    }\n",
       "\n",
       "    .dataframe tbody tr th {\n",
       "        vertical-align: top;\n",
       "    }\n",
       "\n",
       "    .dataframe thead th {\n",
       "        text-align: right;\n",
       "    }\n",
       "</style>\n",
       "<table border=\"1\" class=\"dataframe\">\n",
       "  <thead>\n",
       "    <tr style=\"text-align: right;\">\n",
       "      <th></th>\n",
       "      <th>teamMemberCount</th>\n",
       "      <th>femaleTeamMembersPercent</th>\n",
       "      <th>teamLeadGender</th>\n",
       "      <th>teamDistribution</th>\n",
       "      <th>teamMemberResponseCount</th>\n",
       "      <th>meetingHoursTotal</th>\n",
       "      <th>meetingHoursAverage</th>\n",
       "      <th>meetingHoursStandardDeviation</th>\n",
       "      <th>inPersonMeetingHoursTotal</th>\n",
       "      <th>inPersonMeetingHoursAverage</th>\n",
       "      <th>...</th>\n",
       "      <th>standardDeviationUniqueCommitMessagePercentByWeek</th>\n",
       "      <th>averageCommitMessageLengthTotalByWeek</th>\n",
       "      <th>standardDeviationCommitMessageLengthTotalByWeek</th>\n",
       "      <th>averageCommitCountByStudent</th>\n",
       "      <th>standardDeviationCommitCountByStudent</th>\n",
       "      <th>averageUniqueCommitMessageCountByStudent</th>\n",
       "      <th>issueCount</th>\n",
       "      <th>onTimeIssueCount</th>\n",
       "      <th>lateIssueCount</th>\n",
       "      <th>SE Process grade</th>\n",
       "    </tr>\n",
       "  </thead>\n",
       "  <tbody>\n",
       "    <tr>\n",
       "      <th>0</th>\n",
       "      <td>3</td>\n",
       "      <td>0.0000</td>\n",
       "      <td>0</td>\n",
       "      <td>1</td>\n",
       "      <td>1</td>\n",
       "      <td>2.000000</td>\n",
       "      <td>2.000000</td>\n",
       "      <td>0.000000</td>\n",
       "      <td>2.000000</td>\n",
       "      <td>2.000000</td>\n",
       "      <td>...</td>\n",
       "      <td>0.0</td>\n",
       "      <td>57.0</td>\n",
       "      <td>0.0</td>\n",
       "      <td>4.0</td>\n",
       "      <td>0.0</td>\n",
       "      <td>3.0</td>\n",
       "      <td>2</td>\n",
       "      <td>2</td>\n",
       "      <td>0</td>\n",
       "      <td>2</td>\n",
       "    </tr>\n",
       "    <tr>\n",
       "      <th>1</th>\n",
       "      <td>3</td>\n",
       "      <td>0.3333</td>\n",
       "      <td>1</td>\n",
       "      <td>1</td>\n",
       "      <td>3</td>\n",
       "      <td>9.714286</td>\n",
       "      <td>3.238095</td>\n",
       "      <td>3.299832</td>\n",
       "      <td>6.285715</td>\n",
       "      <td>2.095238</td>\n",
       "      <td>...</td>\n",
       "      <td>0.0</td>\n",
       "      <td>127.0</td>\n",
       "      <td>0.0</td>\n",
       "      <td>4.0</td>\n",
       "      <td>0.0</td>\n",
       "      <td>3.0</td>\n",
       "      <td>2</td>\n",
       "      <td>2</td>\n",
       "      <td>0</td>\n",
       "      <td>1</td>\n",
       "    </tr>\n",
       "    <tr>\n",
       "      <th>2</th>\n",
       "      <td>4</td>\n",
       "      <td>0.0000</td>\n",
       "      <td>0</td>\n",
       "      <td>1</td>\n",
       "      <td>3</td>\n",
       "      <td>4.000000</td>\n",
       "      <td>1.333333</td>\n",
       "      <td>0.471405</td>\n",
       "      <td>3.428572</td>\n",
       "      <td>1.142857</td>\n",
       "      <td>...</td>\n",
       "      <td>0.0</td>\n",
       "      <td>0.0</td>\n",
       "      <td>0.0</td>\n",
       "      <td>7.0</td>\n",
       "      <td>0.0</td>\n",
       "      <td>1.0</td>\n",
       "      <td>1</td>\n",
       "      <td>1</td>\n",
       "      <td>0</td>\n",
       "      <td>2</td>\n",
       "    </tr>\n",
       "    <tr>\n",
       "      <th>3</th>\n",
       "      <td>6</td>\n",
       "      <td>0.0000</td>\n",
       "      <td>0</td>\n",
       "      <td>0</td>\n",
       "      <td>1</td>\n",
       "      <td>2.000000</td>\n",
       "      <td>2.000000</td>\n",
       "      <td>0.000000</td>\n",
       "      <td>1.000000</td>\n",
       "      <td>1.000000</td>\n",
       "      <td>...</td>\n",
       "      <td>0.0</td>\n",
       "      <td>45.0</td>\n",
       "      <td>0.0</td>\n",
       "      <td>2.0</td>\n",
       "      <td>0.0</td>\n",
       "      <td>2.0</td>\n",
       "      <td>0</td>\n",
       "      <td>0</td>\n",
       "      <td>0</td>\n",
       "      <td>1</td>\n",
       "    </tr>\n",
       "    <tr>\n",
       "      <th>4</th>\n",
       "      <td>6</td>\n",
       "      <td>0.1667</td>\n",
       "      <td>0</td>\n",
       "      <td>0</td>\n",
       "      <td>3</td>\n",
       "      <td>11.000000</td>\n",
       "      <td>3.666667</td>\n",
       "      <td>1.699673</td>\n",
       "      <td>5.000000</td>\n",
       "      <td>1.666667</td>\n",
       "      <td>...</td>\n",
       "      <td>0.0</td>\n",
       "      <td>13.0</td>\n",
       "      <td>0.0</td>\n",
       "      <td>1.0</td>\n",
       "      <td>0.0</td>\n",
       "      <td>1.0</td>\n",
       "      <td>0</td>\n",
       "      <td>0</td>\n",
       "      <td>0</td>\n",
       "      <td>1</td>\n",
       "    </tr>\n",
       "    <tr>\n",
       "      <th>...</th>\n",
       "      <td>...</td>\n",
       "      <td>...</td>\n",
       "      <td>...</td>\n",
       "      <td>...</td>\n",
       "      <td>...</td>\n",
       "      <td>...</td>\n",
       "      <td>...</td>\n",
       "      <td>...</td>\n",
       "      <td>...</td>\n",
       "      <td>...</td>\n",
       "      <td>...</td>\n",
       "      <td>...</td>\n",
       "      <td>...</td>\n",
       "      <td>...</td>\n",
       "      <td>...</td>\n",
       "      <td>...</td>\n",
       "      <td>...</td>\n",
       "      <td>...</td>\n",
       "      <td>...</td>\n",
       "      <td>...</td>\n",
       "      <td>...</td>\n",
       "    </tr>\n",
       "    <tr>\n",
       "      <th>59</th>\n",
       "      <td>5</td>\n",
       "      <td>0.4000</td>\n",
       "      <td>0</td>\n",
       "      <td>0</td>\n",
       "      <td>10</td>\n",
       "      <td>10.714286</td>\n",
       "      <td>1.071429</td>\n",
       "      <td>0.894427</td>\n",
       "      <td>9.285715</td>\n",
       "      <td>0.928571</td>\n",
       "      <td>...</td>\n",
       "      <td>0.0</td>\n",
       "      <td>0.0</td>\n",
       "      <td>0.0</td>\n",
       "      <td>0.0</td>\n",
       "      <td>0.0</td>\n",
       "      <td>0.0</td>\n",
       "      <td>0</td>\n",
       "      <td>0</td>\n",
       "      <td>0</td>\n",
       "      <td>1</td>\n",
       "    </tr>\n",
       "    <tr>\n",
       "      <th>60</th>\n",
       "      <td>5</td>\n",
       "      <td>0.0000</td>\n",
       "      <td>0</td>\n",
       "      <td>0</td>\n",
       "      <td>10</td>\n",
       "      <td>8.785714</td>\n",
       "      <td>0.878571</td>\n",
       "      <td>1.192686</td>\n",
       "      <td>4.750000</td>\n",
       "      <td>0.475000</td>\n",
       "      <td>...</td>\n",
       "      <td>0.0</td>\n",
       "      <td>0.0</td>\n",
       "      <td>0.0</td>\n",
       "      <td>0.0</td>\n",
       "      <td>0.0</td>\n",
       "      <td>0.0</td>\n",
       "      <td>0</td>\n",
       "      <td>0</td>\n",
       "      <td>0</td>\n",
       "      <td>1</td>\n",
       "    </tr>\n",
       "    <tr>\n",
       "      <th>61</th>\n",
       "      <td>6</td>\n",
       "      <td>0.1667</td>\n",
       "      <td>0</td>\n",
       "      <td>0</td>\n",
       "      <td>10</td>\n",
       "      <td>16.535714</td>\n",
       "      <td>1.653571</td>\n",
       "      <td>0.951643</td>\n",
       "      <td>13.285714</td>\n",
       "      <td>1.328571</td>\n",
       "      <td>...</td>\n",
       "      <td>0.0</td>\n",
       "      <td>0.0</td>\n",
       "      <td>0.0</td>\n",
       "      <td>0.0</td>\n",
       "      <td>0.0</td>\n",
       "      <td>0.0</td>\n",
       "      <td>0</td>\n",
       "      <td>0</td>\n",
       "      <td>0</td>\n",
       "      <td>1</td>\n",
       "    </tr>\n",
       "    <tr>\n",
       "      <th>62</th>\n",
       "      <td>6</td>\n",
       "      <td>0.1667</td>\n",
       "      <td>0</td>\n",
       "      <td>0</td>\n",
       "      <td>12</td>\n",
       "      <td>18.285714</td>\n",
       "      <td>1.523810</td>\n",
       "      <td>0.849837</td>\n",
       "      <td>14.214286</td>\n",
       "      <td>1.184524</td>\n",
       "      <td>...</td>\n",
       "      <td>0.0</td>\n",
       "      <td>0.0</td>\n",
       "      <td>0.0</td>\n",
       "      <td>0.0</td>\n",
       "      <td>0.0</td>\n",
       "      <td>0.0</td>\n",
       "      <td>0</td>\n",
       "      <td>0</td>\n",
       "      <td>0</td>\n",
       "      <td>1</td>\n",
       "    </tr>\n",
       "    <tr>\n",
       "      <th>63</th>\n",
       "      <td>3</td>\n",
       "      <td>0.3333</td>\n",
       "      <td>0</td>\n",
       "      <td>1</td>\n",
       "      <td>6</td>\n",
       "      <td>10.000000</td>\n",
       "      <td>1.666667</td>\n",
       "      <td>0.471405</td>\n",
       "      <td>9.000000</td>\n",
       "      <td>1.500000</td>\n",
       "      <td>...</td>\n",
       "      <td>0.0</td>\n",
       "      <td>0.0</td>\n",
       "      <td>0.0</td>\n",
       "      <td>0.0</td>\n",
       "      <td>0.0</td>\n",
       "      <td>0.0</td>\n",
       "      <td>0</td>\n",
       "      <td>0</td>\n",
       "      <td>0</td>\n",
       "      <td>1</td>\n",
       "    </tr>\n",
       "  </tbody>\n",
       "</table>\n",
       "<p>64 rows × 85 columns</p>\n",
       "</div>"
      ],
      "text/plain": [
       "    teamMemberCount  femaleTeamMembersPercent  teamLeadGender  \\\n",
       "0                 3                    0.0000               0   \n",
       "1                 3                    0.3333               1   \n",
       "2                 4                    0.0000               0   \n",
       "3                 6                    0.0000               0   \n",
       "4                 6                    0.1667               0   \n",
       "..              ...                       ...             ...   \n",
       "59                5                    0.4000               0   \n",
       "60                5                    0.0000               0   \n",
       "61                6                    0.1667               0   \n",
       "62                6                    0.1667               0   \n",
       "63                3                    0.3333               0   \n",
       "\n",
       "    teamDistribution  teamMemberResponseCount  meetingHoursTotal  \\\n",
       "0                  1                        1           2.000000   \n",
       "1                  1                        3           9.714286   \n",
       "2                  1                        3           4.000000   \n",
       "3                  0                        1           2.000000   \n",
       "4                  0                        3          11.000000   \n",
       "..               ...                      ...                ...   \n",
       "59                 0                       10          10.714286   \n",
       "60                 0                       10           8.785714   \n",
       "61                 0                       10          16.535714   \n",
       "62                 0                       12          18.285714   \n",
       "63                 1                        6          10.000000   \n",
       "\n",
       "    meetingHoursAverage  meetingHoursStandardDeviation  \\\n",
       "0              2.000000                       0.000000   \n",
       "1              3.238095                       3.299832   \n",
       "2              1.333333                       0.471405   \n",
       "3              2.000000                       0.000000   \n",
       "4              3.666667                       1.699673   \n",
       "..                  ...                            ...   \n",
       "59             1.071429                       0.894427   \n",
       "60             0.878571                       1.192686   \n",
       "61             1.653571                       0.951643   \n",
       "62             1.523810                       0.849837   \n",
       "63             1.666667                       0.471405   \n",
       "\n",
       "    inPersonMeetingHoursTotal  inPersonMeetingHoursAverage  ...  \\\n",
       "0                    2.000000                     2.000000  ...   \n",
       "1                    6.285715                     2.095238  ...   \n",
       "2                    3.428572                     1.142857  ...   \n",
       "3                    1.000000                     1.000000  ...   \n",
       "4                    5.000000                     1.666667  ...   \n",
       "..                        ...                          ...  ...   \n",
       "59                   9.285715                     0.928571  ...   \n",
       "60                   4.750000                     0.475000  ...   \n",
       "61                  13.285714                     1.328571  ...   \n",
       "62                  14.214286                     1.184524  ...   \n",
       "63                   9.000000                     1.500000  ...   \n",
       "\n",
       "    standardDeviationUniqueCommitMessagePercentByWeek  \\\n",
       "0                                                 0.0   \n",
       "1                                                 0.0   \n",
       "2                                                 0.0   \n",
       "3                                                 0.0   \n",
       "4                                                 0.0   \n",
       "..                                                ...   \n",
       "59                                                0.0   \n",
       "60                                                0.0   \n",
       "61                                                0.0   \n",
       "62                                                0.0   \n",
       "63                                                0.0   \n",
       "\n",
       "    averageCommitMessageLengthTotalByWeek  \\\n",
       "0                                    57.0   \n",
       "1                                   127.0   \n",
       "2                                     0.0   \n",
       "3                                    45.0   \n",
       "4                                    13.0   \n",
       "..                                    ...   \n",
       "59                                    0.0   \n",
       "60                                    0.0   \n",
       "61                                    0.0   \n",
       "62                                    0.0   \n",
       "63                                    0.0   \n",
       "\n",
       "    standardDeviationCommitMessageLengthTotalByWeek  \\\n",
       "0                                               0.0   \n",
       "1                                               0.0   \n",
       "2                                               0.0   \n",
       "3                                               0.0   \n",
       "4                                               0.0   \n",
       "..                                              ...   \n",
       "59                                              0.0   \n",
       "60                                              0.0   \n",
       "61                                              0.0   \n",
       "62                                              0.0   \n",
       "63                                              0.0   \n",
       "\n",
       "    averageCommitCountByStudent  standardDeviationCommitCountByStudent  \\\n",
       "0                           4.0                                    0.0   \n",
       "1                           4.0                                    0.0   \n",
       "2                           7.0                                    0.0   \n",
       "3                           2.0                                    0.0   \n",
       "4                           1.0                                    0.0   \n",
       "..                          ...                                    ...   \n",
       "59                          0.0                                    0.0   \n",
       "60                          0.0                                    0.0   \n",
       "61                          0.0                                    0.0   \n",
       "62                          0.0                                    0.0   \n",
       "63                          0.0                                    0.0   \n",
       "\n",
       "    averageUniqueCommitMessageCountByStudent  issueCount  onTimeIssueCount  \\\n",
       "0                                        3.0           2                 2   \n",
       "1                                        3.0           2                 2   \n",
       "2                                        1.0           1                 1   \n",
       "3                                        2.0           0                 0   \n",
       "4                                        1.0           0                 0   \n",
       "..                                       ...         ...               ...   \n",
       "59                                       0.0           0                 0   \n",
       "60                                       0.0           0                 0   \n",
       "61                                       0.0           0                 0   \n",
       "62                                       0.0           0                 0   \n",
       "63                                       0.0           0                 0   \n",
       "\n",
       "    lateIssueCount  SE Process grade  \n",
       "0                0                 2  \n",
       "1                0                 1  \n",
       "2                0                 2  \n",
       "3                0                 1  \n",
       "4                0                 1  \n",
       "..             ...               ...  \n",
       "59               0                 1  \n",
       "60               0                 1  \n",
       "61               0                 1  \n",
       "62               0                 1  \n",
       "63               0                 1  \n",
       "\n",
       "[64 rows x 85 columns]"
      ]
     },
     "execution_count": 4,
     "metadata": {},
     "output_type": "execute_result"
    }
   ],
   "source": [
    "df"
   ]
  },
  {
   "cell_type": "code",
   "execution_count": 151,
   "id": "textile-aquarium",
   "metadata": {},
   "outputs": [],
   "source": [
    "df1 = pd.read_csv(\"T2_Process.csv\")\n",
    "df1['SE Process grade'].replace(to_replace=[\"A\",\"F\"], value=[\"1\",\"2\"],inplace=True)"
   ]
  },
  {
   "cell_type": "code",
   "execution_count": 152,
   "id": "apparent-occurrence",
   "metadata": {},
   "outputs": [],
   "source": [
    "X = df.iloc[:, [0,83]].values\n",
    "y = df.iloc[:, 84].values\n",
    "\n",
    "X_train, X_test, y_train, y_test = train_test_split(X, y, test_size = 0.25, random_state = 0)\n",
    "\n",
    "sc = StandardScaler()\n",
    "X_train = sc.fit_transform(X_train)\n",
    "X_test = sc.transform(X_test)"
   ]
  },
  {
   "cell_type": "markdown",
   "id": "focal-valley",
   "metadata": {},
   "source": [
    "## SVM"
   ]
  },
  {
   "cell_type": "code",
   "execution_count": 153,
   "id": "confirmed-flexibility",
   "metadata": {},
   "outputs": [],
   "source": [
    "classifier = SVC(kernel = 'rbf', random_state = 0)\n",
    "classifier.fit(X_train, y_train)\n",
    "y_pred = classifier.predict(X_test)"
   ]
  },
  {
   "cell_type": "code",
   "execution_count": 154,
   "id": "visible-harassment",
   "metadata": {},
   "outputs": [],
   "source": [
    "X1 = df1.iloc[:, [0,83]].values\n",
    "y1 = df1.iloc[:, 84].values\n",
    "X_train_1, X_test_1, y_train_1, y_test_1 = train_test_split(X1, y1, test_size = .95, random_state = 0)\n",
    "X_test_1 = sc.transform(X_test_1)"
   ]
  },
  {
   "cell_type": "code",
   "execution_count": 155,
   "id": "aerial-detail",
   "metadata": {},
   "outputs": [],
   "source": [
    "y_pred_1 = classifier.predict(X_test_1)"
   ]
  },
  {
   "cell_type": "code",
   "execution_count": 156,
   "id": "regulation-associate",
   "metadata": {},
   "outputs": [
    {
     "name": "stdout",
     "output_type": "stream",
     "text": [
      "Accuracy: 0.647887323943662\n",
      "F1 Score:  0.39316239316239315\n",
      "Recall score:  0.5\n"
     ]
    }
   ],
   "source": [
    "print(\"Accuracy:\",accuracy_score(y_test_1, y_pred_1))\n",
    "print(\"F1 Score: \",f1_score(y_test_1, y_pred_1, average='macro'))\n",
    "print(\"Recall score: \", recall_score(y_test_1,y_pred_1, average='macro'))"
   ]
  },
  {
   "cell_type": "markdown",
   "id": "dynamic-momentum",
   "metadata": {},
   "source": [
    "## KNN"
   ]
  },
  {
   "cell_type": "code",
   "execution_count": 157,
   "id": "sought-bulgaria",
   "metadata": {},
   "outputs": [],
   "source": [
    "knn = KNeighborsClassifier(n_neighbors = 5)\n",
    "knn.fit(X_train, y_train)\n",
    "y_pred = knn.predict(X_test)"
   ]
  },
  {
   "cell_type": "code",
   "execution_count": 158,
   "id": "fitting-coordination",
   "metadata": {},
   "outputs": [],
   "source": [
    "y_pred_1 = knn.predict(X_test_1)"
   ]
  },
  {
   "cell_type": "code",
   "execution_count": 159,
   "id": "previous-provision",
   "metadata": {},
   "outputs": [
    {
     "name": "stdout",
     "output_type": "stream",
     "text": [
      "Accuracy: 0.647887323943662\n",
      "F1 Score:  0.39316239316239315\n",
      "Recall score:  0.5\n"
     ]
    }
   ],
   "source": [
    "print(\"Accuracy:\",accuracy_score(y_test_1, y_pred_1))\n",
    "print(\"F1 Score: \",f1_score(y_test_1, y_pred_1, average='macro'))\n",
    "print(\"Recall score: \", recall_score(y_test_1,y_pred_1, average='macro'))"
   ]
  },
  {
   "cell_type": "markdown",
   "id": "smaller-carroll",
   "metadata": {},
   "source": [
    "## Random Forest Classifier"
   ]
  },
  {
   "cell_type": "code",
   "execution_count": 160,
   "id": "square-family",
   "metadata": {},
   "outputs": [],
   "source": [
    "random_forest = RandomForestClassifier(n_estimators=100)\n",
    "random_forest.fit(X_train, y_train)\n",
    "y_pred = random_forest.predict(X_test)"
   ]
  },
  {
   "cell_type": "code",
   "execution_count": 161,
   "id": "spare-parameter",
   "metadata": {},
   "outputs": [],
   "source": [
    "y_pred_1 = random_forest.predict(X_test_1)"
   ]
  },
  {
   "cell_type": "code",
   "execution_count": 162,
   "id": "sharp-deviation",
   "metadata": {},
   "outputs": [
    {
     "name": "stdout",
     "output_type": "stream",
     "text": [
      "Accuracy: 0.704225352112676\n",
      "F1 Score:  0.5450106805004578\n",
      "Recall score:  0.58\n"
     ]
    }
   ],
   "source": [
    "print(\"Accuracy:\",accuracy_score(y_test_1, y_pred_1))\n",
    "print(\"F1 Score: \",f1_score(y_test_1, y_pred_1, average='macro'))\n",
    "print(\"Recall score: \", recall_score(y_test_1,y_pred_1, average='macro'))"
   ]
  },
  {
   "cell_type": "markdown",
   "id": "interstate-gates",
   "metadata": {},
   "source": [
    "## Decision Tree"
   ]
  },
  {
   "cell_type": "code",
   "execution_count": 163,
   "id": "weird-company",
   "metadata": {},
   "outputs": [],
   "source": [
    "decision_tree = DecisionTreeClassifier(criterion='entropy')\n",
    "decision_tree.fit(X_train, y_train)\n",
    "y_pred = decision_tree.predict(X_test)"
   ]
  },
  {
   "cell_type": "code",
   "execution_count": 164,
   "id": "included-adobe",
   "metadata": {},
   "outputs": [],
   "source": [
    "y_pred_1 = decision_tree.predict(X_test_1)"
   ]
  },
  {
   "cell_type": "code",
   "execution_count": 165,
   "id": "precise-format",
   "metadata": {},
   "outputs": [
    {
     "name": "stdout",
     "output_type": "stream",
     "text": [
      "Accuracy: 0.704225352112676\n",
      "F1 Score:  0.5450106805004578\n",
      "Recall score:  0.58\n"
     ]
    }
   ],
   "source": [
    "print(\"Accuracy:\",accuracy_score(y_test_1, y_pred_1))\n",
    "print(\"F1 Score: \",f1_score(y_test_1, y_pred_1, average='macro'))\n",
    "print(\"Recall score: \", recall_score(y_test_1,y_pred_1, average='macro'))"
   ]
  },
  {
   "cell_type": "markdown",
   "id": "visible-malaysia",
   "metadata": {},
   "source": [
    "## Naive Bayes Classifier"
   ]
  },
  {
   "cell_type": "code",
   "execution_count": 166,
   "id": "intellectual-catch",
   "metadata": {},
   "outputs": [],
   "source": [
    "gnb = GaussianNB()\n",
    "gnb.fit(X_train, y_train)\n",
    "y_pred = gnb.predict(X_test)"
   ]
  },
  {
   "cell_type": "code",
   "execution_count": 167,
   "id": "uniform-healthcare",
   "metadata": {},
   "outputs": [],
   "source": [
    "y_pred_1 = gnb.predict(X_test_1)"
   ]
  },
  {
   "cell_type": "code",
   "execution_count": 168,
   "id": "surgical-jonathan",
   "metadata": {},
   "outputs": [
    {
     "name": "stdout",
     "output_type": "stream",
     "text": [
      "Accuracy: 0.647887323943662\n",
      "F1 Score:  0.39316239316239315\n",
      "Recall score:  0.5\n"
     ]
    }
   ],
   "source": [
    "print(\"Accuracy:\",accuracy_score(y_test_1, y_pred_1))\n",
    "print(\"F1 Score: \",f1_score(y_test_1, y_pred_1, average='macro'))\n",
    "print(\"Recall score: \", recall_score(y_test_1,y_pred_1, average='macro'))"
   ]
  },
  {
   "cell_type": "markdown",
   "id": "smaller-square",
   "metadata": {},
   "source": [
    "## Gaussian Process Classifier"
   ]
  },
  {
   "cell_type": "code",
   "execution_count": 169,
   "id": "violent-vienna",
   "metadata": {},
   "outputs": [],
   "source": [
    "gaussian_pc = GaussianProcessClassifier()\n",
    "gaussian_pc.fit(X_train, y_train)\n",
    "y_pred = gaussian_pc.predict(X_test)"
   ]
  },
  {
   "cell_type": "code",
   "execution_count": 170,
   "id": "sunrise-science",
   "metadata": {},
   "outputs": [],
   "source": [
    "y_pred_1 = gaussian_pc.predict(X_test_1)"
   ]
  },
  {
   "cell_type": "code",
   "execution_count": 171,
   "id": "macro-sweden",
   "metadata": {},
   "outputs": [
    {
     "name": "stdout",
     "output_type": "stream",
     "text": [
      "Accuracy: 0.647887323943662\n",
      "F1 Score:  0.39316239316239315\n",
      "Recall score:  0.5\n"
     ]
    }
   ],
   "source": [
    "print(\"Accuracy:\",accuracy_score(y_test_1, y_pred_1))\n",
    "print(\"F1 Score: \",f1_score(y_test_1, y_pred_1, average='macro'))\n",
    "print(\"Recall score: \", recall_score(y_test_1,y_pred_1, average='macro'))"
   ]
  },
  {
   "cell_type": "markdown",
   "id": "impaired-pasta",
   "metadata": {},
   "source": [
    "## MLP Classifier "
   ]
  },
  {
   "cell_type": "code",
   "execution_count": 172,
   "id": "driven-spray",
   "metadata": {},
   "outputs": [],
   "source": [
    "mlp = MLPClassifier(alpha=1, max_iter=1000)\n",
    "mlp.fit(X_train, y_train)\n",
    "y_pred = mlp.predict(X_test)"
   ]
  },
  {
   "cell_type": "code",
   "execution_count": 173,
   "id": "approximate-kidney",
   "metadata": {},
   "outputs": [],
   "source": [
    "y_pred_1 = mlp.predict(X_test_1)"
   ]
  },
  {
   "cell_type": "code",
   "execution_count": 174,
   "id": "senior-evolution",
   "metadata": {},
   "outputs": [
    {
     "name": "stdout",
     "output_type": "stream",
     "text": [
      "Accuracy: 0.647887323943662\n",
      "F1 Score:  0.39316239316239315\n",
      "Recall score:  0.5\n"
     ]
    }
   ],
   "source": [
    "print(\"Accuracy:\",accuracy_score(y_test_1, y_pred_1))\n",
    "print(\"F1 Score: \",f1_score(y_test_1, y_pred_1, average='macro'))\n",
    "print(\"Recall score: \", recall_score(y_test_1,y_pred_1, average='macro'))"
   ]
  },
  {
   "cell_type": "markdown",
   "id": "perfect-landing",
   "metadata": {},
   "source": [
    "## Adaboost Classifier"
   ]
  },
  {
   "cell_type": "code",
   "execution_count": 175,
   "id": "adjustable-level",
   "metadata": {},
   "outputs": [],
   "source": [
    "adaBoost_cf = AdaBoostClassifier()\n",
    "adaBoost_cf.fit(X_train, y_train)\n",
    "y_pred = adaBoost_cf.predict(X_test)"
   ]
  },
  {
   "cell_type": "code",
   "execution_count": 176,
   "id": "coordinate-workshop",
   "metadata": {},
   "outputs": [],
   "source": [
    "y_pred_1 = adaBoost_cf.predict(X_test_1)"
   ]
  },
  {
   "cell_type": "code",
   "execution_count": 177,
   "id": "demanding-manufacturer",
   "metadata": {},
   "outputs": [
    {
     "name": "stdout",
     "output_type": "stream",
     "text": [
      "Accuracy: 0.704225352112676\n",
      "F1 Score:  0.5450106805004578\n",
      "Recall score:  0.58\n"
     ]
    }
   ],
   "source": [
    "print(\"Accuracy:\",accuracy_score(y_test_1, y_pred_1))\n",
    "print(\"F1 Score: \",f1_score(y_test_1, y_pred_1, average='macro'))\n",
    "print(\"Recall score: \", recall_score(y_test_1,y_pred_1, average='macro'))"
   ]
  },
  {
   "cell_type": "markdown",
   "id": "trying-promotion",
   "metadata": {},
   "source": [
    "## Quadratic Discriminat Anlaysis"
   ]
  },
  {
   "cell_type": "code",
   "execution_count": 179,
   "id": "civic-departure",
   "metadata": {},
   "outputs": [
    {
     "name": "stderr",
     "output_type": "stream",
     "text": [
      "D:\\Important\\Anaconda\\envs\\keras-gpu\\lib\\site-packages\\sklearn\\discriminant_analysis.py:808: UserWarning: Variables are collinear\n",
      "  warnings.warn(\"Variables are collinear\")\n",
      "D:\\Important\\Anaconda\\envs\\keras-gpu\\lib\\site-packages\\sklearn\\discriminant_analysis.py:833: RuntimeWarning: divide by zero encountered in power\n",
      "  X2 = np.dot(Xm, R * (S ** (-0.5)))\n",
      "D:\\Important\\Anaconda\\envs\\keras-gpu\\lib\\site-packages\\sklearn\\discriminant_analysis.py:833: RuntimeWarning: invalid value encountered in multiply\n",
      "  X2 = np.dot(Xm, R * (S ** (-0.5)))\n",
      "D:\\Important\\Anaconda\\envs\\keras-gpu\\lib\\site-packages\\sklearn\\discriminant_analysis.py:836: RuntimeWarning: divide by zero encountered in log\n",
      "  u = np.asarray([np.sum(np.log(s)) for s in self.scalings_])\n"
     ]
    }
   ],
   "source": [
    "qda_cf = QuadraticDiscriminantAnalysis()\n",
    "qda_cf.fit(X_train, y_train)\n",
    "y_pred = qda_cf.predict(X_test)"
   ]
  },
  {
   "cell_type": "code",
   "execution_count": 180,
   "id": "dominant-shooting",
   "metadata": {},
   "outputs": [
    {
     "name": "stderr",
     "output_type": "stream",
     "text": [
      "D:\\Important\\Anaconda\\envs\\keras-gpu\\lib\\site-packages\\sklearn\\discriminant_analysis.py:833: RuntimeWarning: divide by zero encountered in power\n",
      "  X2 = np.dot(Xm, R * (S ** (-0.5)))\n",
      "D:\\Important\\Anaconda\\envs\\keras-gpu\\lib\\site-packages\\sklearn\\discriminant_analysis.py:833: RuntimeWarning: invalid value encountered in multiply\n",
      "  X2 = np.dot(Xm, R * (S ** (-0.5)))\n",
      "D:\\Important\\Anaconda\\envs\\keras-gpu\\lib\\site-packages\\sklearn\\discriminant_analysis.py:836: RuntimeWarning: divide by zero encountered in log\n",
      "  u = np.asarray([np.sum(np.log(s)) for s in self.scalings_])\n"
     ]
    }
   ],
   "source": [
    "y_pred_1 = qda_cf.predict(X_test_1)"
   ]
  },
  {
   "cell_type": "code",
   "execution_count": 181,
   "id": "tight-pregnancy",
   "metadata": {},
   "outputs": [
    {
     "name": "stdout",
     "output_type": "stream",
     "text": [
      "Accuracy: 0.647887323943662\n",
      "F1 Score:  0.39316239316239315\n",
      "Recall score:  0.5\n"
     ]
    }
   ],
   "source": [
    "print(\"Accuracy:\",accuracy_score(y_test_1, y_pred_1))\n",
    "print(\"F1 Score: \",f1_score(y_test_1, y_pred_1, average='macro'))\n",
    "print(\"Recall score: \", recall_score(y_test_1,y_pred_1, average='macro'))"
   ]
  },
  {
   "cell_type": "code",
   "execution_count": null,
   "id": "statewide-briefing",
   "metadata": {},
   "outputs": [],
   "source": []
  }
 ],
 "metadata": {
  "kernelspec": {
   "display_name": "Python 3",
   "language": "python",
   "name": "python3"
  },
  "language_info": {
   "codemirror_mode": {
    "name": "ipython",
    "version": 3
   },
   "file_extension": ".py",
   "mimetype": "text/x-python",
   "name": "python",
   "nbconvert_exporter": "python",
   "pygments_lexer": "ipython3",
   "version": "3.6.13"
  }
 },
 "nbformat": 4,
 "nbformat_minor": 5
}

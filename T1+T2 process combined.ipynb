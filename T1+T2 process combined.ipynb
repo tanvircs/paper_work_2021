{
 "cells": [
  {
   "cell_type": "code",
   "execution_count": 101,
   "id": "social-lawsuit",
   "metadata": {},
   "outputs": [],
   "source": [
    "import numpy as np\n",
    "import matplotlib.pyplot as plt\n",
    "import pandas as pd\n",
    "from sklearn.model_selection import train_test_split\n",
    "from sklearn.preprocessing import StandardScaler\n",
    "from sklearn.svm import SVC\n",
    "from sklearn.neighbors import KNeighborsClassifier\n",
    "from sklearn.metrics import confusion_matrix\n",
    "from sklearn.model_selection import cross_val_score\n",
    "import seaborn as sns\n",
    "from sklearn.ensemble import RandomForestClassifier, AdaBoostClassifier\n",
    "from sklearn.tree import DecisionTreeClassifier\n",
    "from sklearn.naive_bayes import GaussianNB\n",
    "from sklearn.gaussian_process import GaussianProcessClassifier\n",
    "from sklearn.discriminant_analysis import QuadraticDiscriminantAnalysis\n",
    "from sklearn.neural_network import MLPClassifier\n",
    "from sklearn.metrics import mean_squared_error\n",
    "from sklearn.ensemble import RandomForestClassifier\n",
    "from sklearn.metrics import accuracy_score\n",
    "from math import sqrt\n",
    "from sklearn.metrics import f1_score\n",
    "from sklearn.metrics import recall_score"
   ]
  },
  {
   "cell_type": "code",
   "execution_count": 102,
   "id": "fleet-opening",
   "metadata": {},
   "outputs": [],
   "source": [
    "df = pd.read_csv(\"T1_Process.csv\")\n",
    "df['SE Process grade'].replace(to_replace=[\"A\",\"F\"], value=[\"1\",\"2\"],inplace=True)"
   ]
  },
  {
   "cell_type": "code",
   "execution_count": 139,
   "id": "incorporate-assist",
   "metadata": {},
   "outputs": [
    {
     "data": {
      "text/plain": [
       "64"
      ]
     },
     "execution_count": 139,
     "metadata": {},
     "output_type": "execute_result"
    }
   ],
   "source": [
    "len(df)"
   ]
  },
  {
   "cell_type": "code",
   "execution_count": 103,
   "id": "dressed-substitute",
   "metadata": {},
   "outputs": [],
   "source": [
    "df1 = pd.read_csv(\"T2_Process.csv\")\n",
    "df1['SE Process grade'].replace(to_replace=[\"A\",\"F\"], value=[\"1\",\"2\"],inplace=True)"
   ]
  },
  {
   "cell_type": "code",
   "execution_count": 104,
   "id": "thousand-currency",
   "metadata": {},
   "outputs": [],
   "source": [
    "df2 = pd.read_csv(\"T3_Process.csv\")\n",
    "df2['SE Process grade '].replace(to_replace=[\"A\",\"F\"], value=[\"1\",\"2\"],inplace=True)"
   ]
  },
  {
   "cell_type": "code",
   "execution_count": 105,
   "id": "general-contributor",
   "metadata": {},
   "outputs": [],
   "source": [
    "# df2.head()"
   ]
  },
  {
   "cell_type": "code",
   "execution_count": 106,
   "id": "waiting-tower",
   "metadata": {},
   "outputs": [],
   "source": [
    "frames  = [df,df1]\n",
    "df_combine = pd.concat(frames)"
   ]
  },
  {
   "cell_type": "code",
   "execution_count": 140,
   "id": "variable-shooting",
   "metadata": {},
   "outputs": [
    {
     "data": {
      "text/html": [
       "<div>\n",
       "<style scoped>\n",
       "    .dataframe tbody tr th:only-of-type {\n",
       "        vertical-align: middle;\n",
       "    }\n",
       "\n",
       "    .dataframe tbody tr th {\n",
       "        vertical-align: top;\n",
       "    }\n",
       "\n",
       "    .dataframe thead th {\n",
       "        text-align: right;\n",
       "    }\n",
       "</style>\n",
       "<table border=\"1\" class=\"dataframe\">\n",
       "  <thead>\n",
       "    <tr style=\"text-align: right;\">\n",
       "      <th></th>\n",
       "      <th>teamMemberCount</th>\n",
       "      <th>femaleTeamMembersPercent</th>\n",
       "      <th>teamLeadGender</th>\n",
       "      <th>teamDistribution</th>\n",
       "      <th>teamMemberResponseCount</th>\n",
       "      <th>meetingHoursTotal</th>\n",
       "      <th>meetingHoursAverage</th>\n",
       "      <th>meetingHoursStandardDeviation</th>\n",
       "      <th>inPersonMeetingHoursTotal</th>\n",
       "      <th>inPersonMeetingHoursAverage</th>\n",
       "      <th>...</th>\n",
       "      <th>standardDeviationUniqueCommitMessagePercentByWeek</th>\n",
       "      <th>averageCommitMessageLengthTotalByWeek</th>\n",
       "      <th>standardDeviationCommitMessageLengthTotalByWeek</th>\n",
       "      <th>averageCommitCountByStudent</th>\n",
       "      <th>standardDeviationCommitCountByStudent</th>\n",
       "      <th>averageUniqueCommitMessageCountByStudent</th>\n",
       "      <th>issueCount</th>\n",
       "      <th>onTimeIssueCount</th>\n",
       "      <th>lateIssueCount</th>\n",
       "      <th>SE Process grade</th>\n",
       "    </tr>\n",
       "  </thead>\n",
       "  <tbody>\n",
       "    <tr>\n",
       "      <th>0</th>\n",
       "      <td>3</td>\n",
       "      <td>0.0000</td>\n",
       "      <td>0</td>\n",
       "      <td>1</td>\n",
       "      <td>1</td>\n",
       "      <td>2.000000</td>\n",
       "      <td>2.000000</td>\n",
       "      <td>0.000000</td>\n",
       "      <td>2.000000</td>\n",
       "      <td>2.000000</td>\n",
       "      <td>...</td>\n",
       "      <td>0.000000</td>\n",
       "      <td>57.00</td>\n",
       "      <td>0.000000</td>\n",
       "      <td>4.0000</td>\n",
       "      <td>0.000000</td>\n",
       "      <td>3.0000</td>\n",
       "      <td>2</td>\n",
       "      <td>2</td>\n",
       "      <td>0</td>\n",
       "      <td>2</td>\n",
       "    </tr>\n",
       "    <tr>\n",
       "      <th>1</th>\n",
       "      <td>3</td>\n",
       "      <td>0.3333</td>\n",
       "      <td>1</td>\n",
       "      <td>1</td>\n",
       "      <td>3</td>\n",
       "      <td>9.714286</td>\n",
       "      <td>3.238095</td>\n",
       "      <td>3.299832</td>\n",
       "      <td>6.285715</td>\n",
       "      <td>2.095238</td>\n",
       "      <td>...</td>\n",
       "      <td>0.000000</td>\n",
       "      <td>127.00</td>\n",
       "      <td>0.000000</td>\n",
       "      <td>4.0000</td>\n",
       "      <td>0.000000</td>\n",
       "      <td>3.0000</td>\n",
       "      <td>2</td>\n",
       "      <td>2</td>\n",
       "      <td>0</td>\n",
       "      <td>1</td>\n",
       "    </tr>\n",
       "    <tr>\n",
       "      <th>2</th>\n",
       "      <td>4</td>\n",
       "      <td>0.0000</td>\n",
       "      <td>0</td>\n",
       "      <td>1</td>\n",
       "      <td>3</td>\n",
       "      <td>4.000000</td>\n",
       "      <td>1.333333</td>\n",
       "      <td>0.471405</td>\n",
       "      <td>3.428572</td>\n",
       "      <td>1.142857</td>\n",
       "      <td>...</td>\n",
       "      <td>0.000000</td>\n",
       "      <td>0.00</td>\n",
       "      <td>0.000000</td>\n",
       "      <td>7.0000</td>\n",
       "      <td>0.000000</td>\n",
       "      <td>1.0000</td>\n",
       "      <td>1</td>\n",
       "      <td>1</td>\n",
       "      <td>0</td>\n",
       "      <td>2</td>\n",
       "    </tr>\n",
       "    <tr>\n",
       "      <th>3</th>\n",
       "      <td>6</td>\n",
       "      <td>0.0000</td>\n",
       "      <td>0</td>\n",
       "      <td>0</td>\n",
       "      <td>1</td>\n",
       "      <td>2.000000</td>\n",
       "      <td>2.000000</td>\n",
       "      <td>0.000000</td>\n",
       "      <td>1.000000</td>\n",
       "      <td>1.000000</td>\n",
       "      <td>...</td>\n",
       "      <td>0.000000</td>\n",
       "      <td>45.00</td>\n",
       "      <td>0.000000</td>\n",
       "      <td>2.0000</td>\n",
       "      <td>0.000000</td>\n",
       "      <td>2.0000</td>\n",
       "      <td>0</td>\n",
       "      <td>0</td>\n",
       "      <td>0</td>\n",
       "      <td>1</td>\n",
       "    </tr>\n",
       "    <tr>\n",
       "      <th>4</th>\n",
       "      <td>6</td>\n",
       "      <td>0.1667</td>\n",
       "      <td>0</td>\n",
       "      <td>0</td>\n",
       "      <td>3</td>\n",
       "      <td>11.000000</td>\n",
       "      <td>3.666667</td>\n",
       "      <td>1.699673</td>\n",
       "      <td>5.000000</td>\n",
       "      <td>1.666667</td>\n",
       "      <td>...</td>\n",
       "      <td>0.000000</td>\n",
       "      <td>13.00</td>\n",
       "      <td>0.000000</td>\n",
       "      <td>1.0000</td>\n",
       "      <td>0.000000</td>\n",
       "      <td>1.0000</td>\n",
       "      <td>0</td>\n",
       "      <td>0</td>\n",
       "      <td>0</td>\n",
       "      <td>1</td>\n",
       "    </tr>\n",
       "    <tr>\n",
       "      <th>...</th>\n",
       "      <td>...</td>\n",
       "      <td>...</td>\n",
       "      <td>...</td>\n",
       "      <td>...</td>\n",
       "      <td>...</td>\n",
       "      <td>...</td>\n",
       "      <td>...</td>\n",
       "      <td>...</td>\n",
       "      <td>...</td>\n",
       "      <td>...</td>\n",
       "      <td>...</td>\n",
       "      <td>...</td>\n",
       "      <td>...</td>\n",
       "      <td>...</td>\n",
       "      <td>...</td>\n",
       "      <td>...</td>\n",
       "      <td>...</td>\n",
       "      <td>...</td>\n",
       "      <td>...</td>\n",
       "      <td>...</td>\n",
       "      <td>...</td>\n",
       "    </tr>\n",
       "    <tr>\n",
       "      <th>69</th>\n",
       "      <td>6</td>\n",
       "      <td>0.1667</td>\n",
       "      <td>0</td>\n",
       "      <td>0</td>\n",
       "      <td>24</td>\n",
       "      <td>54.714286</td>\n",
       "      <td>2.279762</td>\n",
       "      <td>1.636047</td>\n",
       "      <td>44.428572</td>\n",
       "      <td>1.851190</td>\n",
       "      <td>...</td>\n",
       "      <td>0.027929</td>\n",
       "      <td>1544.00</td>\n",
       "      <td>1560.601967</td>\n",
       "      <td>13.0000</td>\n",
       "      <td>6.066300</td>\n",
       "      <td>12.2000</td>\n",
       "      <td>0</td>\n",
       "      <td>0</td>\n",
       "      <td>0</td>\n",
       "      <td>1</td>\n",
       "    </tr>\n",
       "    <tr>\n",
       "      <th>70</th>\n",
       "      <td>7</td>\n",
       "      <td>0.0000</td>\n",
       "      <td>0</td>\n",
       "      <td>0</td>\n",
       "      <td>35</td>\n",
       "      <td>88.928572</td>\n",
       "      <td>2.540816</td>\n",
       "      <td>0.613455</td>\n",
       "      <td>74.571429</td>\n",
       "      <td>2.130612</td>\n",
       "      <td>...</td>\n",
       "      <td>0.028755</td>\n",
       "      <td>1291.20</td>\n",
       "      <td>644.782568</td>\n",
       "      <td>19.8571</td>\n",
       "      <td>12.988221</td>\n",
       "      <td>19.1429</td>\n",
       "      <td>0</td>\n",
       "      <td>0</td>\n",
       "      <td>0</td>\n",
       "      <td>1</td>\n",
       "    </tr>\n",
       "    <tr>\n",
       "      <th>71</th>\n",
       "      <td>5</td>\n",
       "      <td>0.0000</td>\n",
       "      <td>0</td>\n",
       "      <td>0</td>\n",
       "      <td>23</td>\n",
       "      <td>39.571429</td>\n",
       "      <td>1.720497</td>\n",
       "      <td>1.550657</td>\n",
       "      <td>36.000000</td>\n",
       "      <td>1.565217</td>\n",
       "      <td>...</td>\n",
       "      <td>0.036314</td>\n",
       "      <td>590.20</td>\n",
       "      <td>347.010893</td>\n",
       "      <td>28.2500</td>\n",
       "      <td>29.431064</td>\n",
       "      <td>27.0000</td>\n",
       "      <td>0</td>\n",
       "      <td>0</td>\n",
       "      <td>0</td>\n",
       "      <td>1</td>\n",
       "    </tr>\n",
       "    <tr>\n",
       "      <th>72</th>\n",
       "      <td>6</td>\n",
       "      <td>0.1667</td>\n",
       "      <td>0</td>\n",
       "      <td>0</td>\n",
       "      <td>25</td>\n",
       "      <td>69.500001</td>\n",
       "      <td>2.780000</td>\n",
       "      <td>1.366163</td>\n",
       "      <td>35.107143</td>\n",
       "      <td>1.404286</td>\n",
       "      <td>...</td>\n",
       "      <td>0.096000</td>\n",
       "      <td>288.00</td>\n",
       "      <td>288.886829</td>\n",
       "      <td>9.2000</td>\n",
       "      <td>9.887366</td>\n",
       "      <td>8.0000</td>\n",
       "      <td>0</td>\n",
       "      <td>0</td>\n",
       "      <td>0</td>\n",
       "      <td>1</td>\n",
       "    </tr>\n",
       "    <tr>\n",
       "      <th>73</th>\n",
       "      <td>6</td>\n",
       "      <td>0.8333</td>\n",
       "      <td>1</td>\n",
       "      <td>0</td>\n",
       "      <td>27</td>\n",
       "      <td>70.500000</td>\n",
       "      <td>2.611111</td>\n",
       "      <td>1.048220</td>\n",
       "      <td>34.428572</td>\n",
       "      <td>1.275132</td>\n",
       "      <td>...</td>\n",
       "      <td>0.067983</td>\n",
       "      <td>1570.75</td>\n",
       "      <td>988.846645</td>\n",
       "      <td>22.8333</td>\n",
       "      <td>20.061710</td>\n",
       "      <td>20.3333</td>\n",
       "      <td>0</td>\n",
       "      <td>0</td>\n",
       "      <td>0</td>\n",
       "      <td>1</td>\n",
       "    </tr>\n",
       "  </tbody>\n",
       "</table>\n",
       "<p>138 rows × 85 columns</p>\n",
       "</div>"
      ],
      "text/plain": [
       "    teamMemberCount  femaleTeamMembersPercent  teamLeadGender  \\\n",
       "0                 3                    0.0000               0   \n",
       "1                 3                    0.3333               1   \n",
       "2                 4                    0.0000               0   \n",
       "3                 6                    0.0000               0   \n",
       "4                 6                    0.1667               0   \n",
       "..              ...                       ...             ...   \n",
       "69                6                    0.1667               0   \n",
       "70                7                    0.0000               0   \n",
       "71                5                    0.0000               0   \n",
       "72                6                    0.1667               0   \n",
       "73                6                    0.8333               1   \n",
       "\n",
       "    teamDistribution  teamMemberResponseCount  meetingHoursTotal  \\\n",
       "0                  1                        1           2.000000   \n",
       "1                  1                        3           9.714286   \n",
       "2                  1                        3           4.000000   \n",
       "3                  0                        1           2.000000   \n",
       "4                  0                        3          11.000000   \n",
       "..               ...                      ...                ...   \n",
       "69                 0                       24          54.714286   \n",
       "70                 0                       35          88.928572   \n",
       "71                 0                       23          39.571429   \n",
       "72                 0                       25          69.500001   \n",
       "73                 0                       27          70.500000   \n",
       "\n",
       "    meetingHoursAverage  meetingHoursStandardDeviation  \\\n",
       "0              2.000000                       0.000000   \n",
       "1              3.238095                       3.299832   \n",
       "2              1.333333                       0.471405   \n",
       "3              2.000000                       0.000000   \n",
       "4              3.666667                       1.699673   \n",
       "..                  ...                            ...   \n",
       "69             2.279762                       1.636047   \n",
       "70             2.540816                       0.613455   \n",
       "71             1.720497                       1.550657   \n",
       "72             2.780000                       1.366163   \n",
       "73             2.611111                       1.048220   \n",
       "\n",
       "    inPersonMeetingHoursTotal  inPersonMeetingHoursAverage  ...  \\\n",
       "0                    2.000000                     2.000000  ...   \n",
       "1                    6.285715                     2.095238  ...   \n",
       "2                    3.428572                     1.142857  ...   \n",
       "3                    1.000000                     1.000000  ...   \n",
       "4                    5.000000                     1.666667  ...   \n",
       "..                        ...                          ...  ...   \n",
       "69                  44.428572                     1.851190  ...   \n",
       "70                  74.571429                     2.130612  ...   \n",
       "71                  36.000000                     1.565217  ...   \n",
       "72                  35.107143                     1.404286  ...   \n",
       "73                  34.428572                     1.275132  ...   \n",
       "\n",
       "    standardDeviationUniqueCommitMessagePercentByWeek  \\\n",
       "0                                            0.000000   \n",
       "1                                            0.000000   \n",
       "2                                            0.000000   \n",
       "3                                            0.000000   \n",
       "4                                            0.000000   \n",
       "..                                                ...   \n",
       "69                                           0.027929   \n",
       "70                                           0.028755   \n",
       "71                                           0.036314   \n",
       "72                                           0.096000   \n",
       "73                                           0.067983   \n",
       "\n",
       "    averageCommitMessageLengthTotalByWeek  \\\n",
       "0                                   57.00   \n",
       "1                                  127.00   \n",
       "2                                    0.00   \n",
       "3                                   45.00   \n",
       "4                                   13.00   \n",
       "..                                    ...   \n",
       "69                                1544.00   \n",
       "70                                1291.20   \n",
       "71                                 590.20   \n",
       "72                                 288.00   \n",
       "73                                1570.75   \n",
       "\n",
       "    standardDeviationCommitMessageLengthTotalByWeek  \\\n",
       "0                                          0.000000   \n",
       "1                                          0.000000   \n",
       "2                                          0.000000   \n",
       "3                                          0.000000   \n",
       "4                                          0.000000   \n",
       "..                                              ...   \n",
       "69                                      1560.601967   \n",
       "70                                       644.782568   \n",
       "71                                       347.010893   \n",
       "72                                       288.886829   \n",
       "73                                       988.846645   \n",
       "\n",
       "    averageCommitCountByStudent  standardDeviationCommitCountByStudent  \\\n",
       "0                        4.0000                               0.000000   \n",
       "1                        4.0000                               0.000000   \n",
       "2                        7.0000                               0.000000   \n",
       "3                        2.0000                               0.000000   \n",
       "4                        1.0000                               0.000000   \n",
       "..                          ...                                    ...   \n",
       "69                      13.0000                               6.066300   \n",
       "70                      19.8571                              12.988221   \n",
       "71                      28.2500                              29.431064   \n",
       "72                       9.2000                               9.887366   \n",
       "73                      22.8333                              20.061710   \n",
       "\n",
       "    averageUniqueCommitMessageCountByStudent  issueCount  onTimeIssueCount  \\\n",
       "0                                     3.0000           2                 2   \n",
       "1                                     3.0000           2                 2   \n",
       "2                                     1.0000           1                 1   \n",
       "3                                     2.0000           0                 0   \n",
       "4                                     1.0000           0                 0   \n",
       "..                                       ...         ...               ...   \n",
       "69                                   12.2000           0                 0   \n",
       "70                                   19.1429           0                 0   \n",
       "71                                   27.0000           0                 0   \n",
       "72                                    8.0000           0                 0   \n",
       "73                                   20.3333           0                 0   \n",
       "\n",
       "    lateIssueCount  SE Process grade  \n",
       "0                0                 2  \n",
       "1                0                 1  \n",
       "2                0                 2  \n",
       "3                0                 1  \n",
       "4                0                 1  \n",
       "..             ...               ...  \n",
       "69               0                 1  \n",
       "70               0                 1  \n",
       "71               0                 1  \n",
       "72               0                 1  \n",
       "73               0                 1  \n",
       "\n",
       "[138 rows x 85 columns]"
      ]
     },
     "execution_count": 140,
     "metadata": {},
     "output_type": "execute_result"
    }
   ],
   "source": [
    "df_combine"
   ]
  },
  {
   "cell_type": "code",
   "execution_count": 108,
   "id": "flexible-effect",
   "metadata": {},
   "outputs": [],
   "source": [
    "X = df_combine.iloc[:, [0,83]].values\n",
    "y = df_combine.iloc[:, 84].values\n",
    "\n",
    "X_train, X_test, y_train, y_test = train_test_split(X, y, test_size = 0.25, random_state = 0)\n",
    "\n",
    "sc = StandardScaler()\n",
    "X_train = sc.fit_transform(X_train)\n",
    "X_test = sc.transform(X_test)"
   ]
  },
  {
   "cell_type": "markdown",
   "id": "distributed-fundamental",
   "metadata": {},
   "source": [
    "## SVM"
   ]
  },
  {
   "cell_type": "code",
   "execution_count": 109,
   "id": "rental-trash",
   "metadata": {},
   "outputs": [],
   "source": [
    "classifier = SVC(kernel = 'rbf', random_state = 0)\n",
    "classifier.fit(X_train, y_train)\n",
    "y_pred = classifier.predict(X_test)"
   ]
  },
  {
   "cell_type": "code",
   "execution_count": 110,
   "id": "ready-headline",
   "metadata": {},
   "outputs": [],
   "source": [
    "X1 = df2.iloc[:, [0,83]].values\n",
    "y1 = df2.iloc[:, 84].values\n",
    "X_train_1, X_test_1, y_train_1, y_test_1 = train_test_split(X1, y1, test_size = .95, random_state = 0)\n",
    "X_test_1 = sc.transform(X_test_1)"
   ]
  },
  {
   "cell_type": "code",
   "execution_count": 111,
   "id": "robust-election",
   "metadata": {},
   "outputs": [],
   "source": [
    "y_pred_1 = classifier.predict(X_test_1)"
   ]
  },
  {
   "cell_type": "code",
   "execution_count": 113,
   "id": "legislative-sapphire",
   "metadata": {},
   "outputs": [
    {
     "name": "stdout",
     "output_type": "stream",
     "text": [
      "Accuracy: 0.704225352112676\n",
      "F1 Score:  0.6584192439862544\n",
      "Recall score:  0.6542553191489362\n"
     ]
    }
   ],
   "source": [
    "print(\"Accuracy:\",accuracy_score(y_test_1, y_pred_1))\n",
    "print(\"F1 Score: \",f1_score(y_test_1, y_pred_1, average='macro'))\n",
    "print(\"Recall score: \", recall_score(y_test_1,y_pred_1, average='macro'))"
   ]
  },
  {
   "cell_type": "markdown",
   "id": "signed-designer",
   "metadata": {},
   "source": [
    "## KNN"
   ]
  },
  {
   "cell_type": "code",
   "execution_count": 114,
   "id": "inside-confusion",
   "metadata": {},
   "outputs": [],
   "source": [
    "knn = KNeighborsClassifier(n_neighbors = 5)\n",
    "knn.fit(X_train, y_train)\n",
    "y_pred = knn.predict(X_test)"
   ]
  },
  {
   "cell_type": "code",
   "execution_count": 115,
   "id": "lovely-houston",
   "metadata": {},
   "outputs": [],
   "source": [
    "y_pred_1 = knn.predict(X_test_1)"
   ]
  },
  {
   "cell_type": "code",
   "execution_count": 116,
   "id": "fourth-window",
   "metadata": {},
   "outputs": [
    {
     "name": "stdout",
     "output_type": "stream",
     "text": [
      "Accuracy: 0.704225352112676\n",
      "F1 Score:  0.6288274831964151\n",
      "Recall score:  0.6236702127659575\n"
     ]
    }
   ],
   "source": [
    "print(\"Accuracy:\",accuracy_score(y_test_1, y_pred_1))\n",
    "print(\"F1 Score: \",f1_score(y_test_1, y_pred_1, average='macro'))\n",
    "print(\"Recall score: \", recall_score(y_test_1,y_pred_1, average='macro'))"
   ]
  },
  {
   "cell_type": "markdown",
   "id": "criminal-craft",
   "metadata": {},
   "source": [
    "## Random Forest Classifier"
   ]
  },
  {
   "cell_type": "code",
   "execution_count": 117,
   "id": "banner-portsmouth",
   "metadata": {},
   "outputs": [],
   "source": [
    "random_forest = RandomForestClassifier(n_estimators=100)\n",
    "random_forest.fit(X_train, y_train)\n",
    "y_pred = random_forest.predict(X_test)"
   ]
  },
  {
   "cell_type": "code",
   "execution_count": 118,
   "id": "racial-insurance",
   "metadata": {},
   "outputs": [],
   "source": [
    "y_pred_1 = random_forest.predict(X_test_1)"
   ]
  },
  {
   "cell_type": "code",
   "execution_count": 119,
   "id": "violent-charlotte",
   "metadata": {},
   "outputs": [
    {
     "name": "stdout",
     "output_type": "stream",
     "text": [
      "Accuracy: 0.704225352112676\n",
      "F1 Score:  0.6288274831964151\n",
      "Recall score:  0.6236702127659575\n"
     ]
    }
   ],
   "source": [
    "print(\"Accuracy:\",accuracy_score(y_test_1, y_pred_1))\n",
    "print(\"F1 Score: \",f1_score(y_test_1, y_pred_1, average='macro'))\n",
    "print(\"Recall score: \", recall_score(y_test_1,y_pred_1, average='macro'))"
   ]
  },
  {
   "cell_type": "markdown",
   "id": "bound-delay",
   "metadata": {},
   "source": [
    "## Decision Tree"
   ]
  },
  {
   "cell_type": "code",
   "execution_count": 120,
   "id": "mighty-carroll",
   "metadata": {},
   "outputs": [],
   "source": [
    "decision_tree = DecisionTreeClassifier(criterion='entropy')\n",
    "decision_tree.fit(X_train, y_train)\n",
    "y_pred = decision_tree.predict(X_test)"
   ]
  },
  {
   "cell_type": "code",
   "execution_count": 121,
   "id": "described-agent",
   "metadata": {},
   "outputs": [],
   "source": [
    "y_pred_1 = decision_tree.predict(X_test_1)"
   ]
  },
  {
   "cell_type": "code",
   "execution_count": 122,
   "id": "front-stream",
   "metadata": {},
   "outputs": [
    {
     "name": "stdout",
     "output_type": "stream",
     "text": [
      "Accuracy: 0.7183098591549296\n",
      "F1 Score:  0.6278825995807127\n",
      "Recall score:  0.624113475177305\n"
     ]
    }
   ],
   "source": [
    "print(\"Accuracy:\",accuracy_score(y_test_1, y_pred_1))\n",
    "print(\"F1 Score: \",f1_score(y_test_1, y_pred_1, average='macro'))\n",
    "print(\"Recall score: \", recall_score(y_test_1,y_pred_1, average='macro'))"
   ]
  },
  {
   "cell_type": "markdown",
   "id": "thrown-charter",
   "metadata": {},
   "source": [
    "## Naive Bayes Classifier"
   ]
  },
  {
   "cell_type": "code",
   "execution_count": 123,
   "id": "optional-disability",
   "metadata": {},
   "outputs": [],
   "source": [
    "gnb = GaussianNB()\n",
    "gnb.fit(X_train, y_train)\n",
    "y_pred = gnb.predict(X_test)"
   ]
  },
  {
   "cell_type": "code",
   "execution_count": 124,
   "id": "personal-driving",
   "metadata": {},
   "outputs": [],
   "source": [
    "y_pred_1 = gnb.predict(X_test_1)"
   ]
  },
  {
   "cell_type": "code",
   "execution_count": 125,
   "id": "double-houston",
   "metadata": {},
   "outputs": [
    {
     "name": "stdout",
     "output_type": "stream",
     "text": [
      "Accuracy: 0.676056338028169\n",
      "F1 Score:  0.5796653796653797\n",
      "Recall score:  0.5820035460992908\n"
     ]
    }
   ],
   "source": [
    "print(\"Accuracy:\",accuracy_score(y_test_1, y_pred_1))\n",
    "print(\"F1 Score: \",f1_score(y_test_1, y_pred_1, average='macro'))\n",
    "print(\"Recall score: \", recall_score(y_test_1,y_pred_1, average='macro'))"
   ]
  },
  {
   "cell_type": "markdown",
   "id": "excited-naples",
   "metadata": {},
   "source": [
    "## Gaussian Process Classifier "
   ]
  },
  {
   "cell_type": "code",
   "execution_count": 126,
   "id": "endangered-tutorial",
   "metadata": {},
   "outputs": [],
   "source": [
    "gaussian_pc = GaussianProcessClassifier()\n",
    "gaussian_pc.fit(X_train, y_train)\n",
    "y_pred = gaussian_pc.predict(X_test)"
   ]
  },
  {
   "cell_type": "code",
   "execution_count": 127,
   "id": "several-firewall",
   "metadata": {},
   "outputs": [],
   "source": [
    "y_pred_1 = gaussian_pc.predict(X_test_1)"
   ]
  },
  {
   "cell_type": "code",
   "execution_count": 128,
   "id": "gorgeous-butterfly",
   "metadata": {},
   "outputs": [
    {
     "name": "stdout",
     "output_type": "stream",
     "text": [
      "Accuracy: 0.676056338028169\n",
      "F1 Score:  0.6163965233732676\n",
      "Recall score:  0.6125886524822695\n"
     ]
    }
   ],
   "source": [
    "print(\"Accuracy:\",accuracy_score(y_test_1, y_pred_1))\n",
    "print(\"F1 Score: \",f1_score(y_test_1, y_pred_1, average='macro'))\n",
    "print(\"Recall score: \", recall_score(y_test_1,y_pred_1, average='macro'))"
   ]
  },
  {
   "cell_type": "markdown",
   "id": "concrete-lobby",
   "metadata": {},
   "source": [
    "## MLP Classifier"
   ]
  },
  {
   "cell_type": "code",
   "execution_count": 129,
   "id": "greek-touch",
   "metadata": {},
   "outputs": [],
   "source": [
    "mlp = MLPClassifier(alpha=1, max_iter=1000)\n",
    "mlp.fit(X_train, y_train)\n",
    "y_pred = mlp.predict(X_test)"
   ]
  },
  {
   "cell_type": "code",
   "execution_count": 130,
   "id": "awful-convergence",
   "metadata": {},
   "outputs": [],
   "source": [
    "y_pred_1 = mlp.predict(X_test_1)"
   ]
  },
  {
   "cell_type": "code",
   "execution_count": 131,
   "id": "golden-architecture",
   "metadata": {},
   "outputs": [
    {
     "name": "stdout",
     "output_type": "stream",
     "text": [
      "Accuracy: 0.676056338028169\n",
      "F1 Score:  0.5796653796653797\n",
      "Recall score:  0.5820035460992908\n"
     ]
    }
   ],
   "source": [
    "print(\"Accuracy:\",accuracy_score(y_test_1, y_pred_1))\n",
    "print(\"F1 Score: \",f1_score(y_test_1, y_pred_1, average='macro'))\n",
    "print(\"Recall score: \", recall_score(y_test_1,y_pred_1, average='macro'))"
   ]
  },
  {
   "cell_type": "markdown",
   "id": "correct-transfer",
   "metadata": {},
   "source": [
    "## Adaboost Classifier"
   ]
  },
  {
   "cell_type": "code",
   "execution_count": 132,
   "id": "handled-literacy",
   "metadata": {},
   "outputs": [],
   "source": [
    "adaBoost_cf = AdaBoostClassifier()\n",
    "adaBoost_cf.fit(X_train, y_train)\n",
    "y_pred = adaBoost_cf.predict(X_test)"
   ]
  },
  {
   "cell_type": "code",
   "execution_count": 133,
   "id": "abstract-register",
   "metadata": {},
   "outputs": [],
   "source": [
    "y_pred_1 = adaBoost_cf.predict(X_test_1)"
   ]
  },
  {
   "cell_type": "code",
   "execution_count": 134,
   "id": "hollow-surge",
   "metadata": {},
   "outputs": [
    {
     "name": "stdout",
     "output_type": "stream",
     "text": [
      "Accuracy: 0.704225352112676\n",
      "F1 Score:  0.6288274831964151\n",
      "Recall score:  0.6236702127659575\n"
     ]
    }
   ],
   "source": [
    "print(\"Accuracy:\",accuracy_score(y_test_1, y_pred_1))\n",
    "print(\"F1 Score: \",f1_score(y_test_1, y_pred_1, average='macro'))\n",
    "print(\"Recall score: \", recall_score(y_test_1,y_pred_1, average='macro'))"
   ]
  },
  {
   "cell_type": "markdown",
   "id": "declared-rwanda",
   "metadata": {},
   "source": [
    "## Quadratic Discriminant Analysis"
   ]
  },
  {
   "cell_type": "code",
   "execution_count": 135,
   "id": "compressed-castle",
   "metadata": {},
   "outputs": [],
   "source": [
    "qda_cf = QuadraticDiscriminantAnalysis()\n",
    "qda_cf.fit(X_train, y_train)\n",
    "y_pred = qda_cf.predict(X_test)"
   ]
  },
  {
   "cell_type": "code",
   "execution_count": 136,
   "id": "immediate-stereo",
   "metadata": {},
   "outputs": [],
   "source": [
    "y_pred_1 = qda_cf.predict(X_test_1)"
   ]
  },
  {
   "cell_type": "code",
   "execution_count": 137,
   "id": "hawaiian-pursuit",
   "metadata": {},
   "outputs": [
    {
     "name": "stdout",
     "output_type": "stream",
     "text": [
      "Accuracy: 0.676056338028169\n",
      "F1 Score:  0.5796653796653797\n",
      "Recall score:  0.5820035460992908\n"
     ]
    }
   ],
   "source": [
    "print(\"Accuracy:\",accuracy_score(y_test_1, y_pred_1))\n",
    "print(\"F1 Score: \",f1_score(y_test_1, y_pred_1, average='macro'))\n",
    "print(\"Recall score: \", recall_score(y_test_1,y_pred_1, average='macro'))"
   ]
  },
  {
   "cell_type": "code",
   "execution_count": null,
   "id": "found-invite",
   "metadata": {},
   "outputs": [],
   "source": []
  }
 ],
 "metadata": {
  "kernelspec": {
   "display_name": "Python 3",
   "language": "python",
   "name": "python3"
  },
  "language_info": {
   "codemirror_mode": {
    "name": "ipython",
    "version": 3
   },
   "file_extension": ".py",
   "mimetype": "text/x-python",
   "name": "python",
   "nbconvert_exporter": "python",
   "pygments_lexer": "ipython3",
   "version": "3.6.13"
  }
 },
 "nbformat": 4,
 "nbformat_minor": 5
}

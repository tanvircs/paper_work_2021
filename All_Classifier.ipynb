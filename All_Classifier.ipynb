{
 "cells": [
  {
   "cell_type": "code",
   "execution_count": 21,
   "id": "hired-median",
   "metadata": {},
   "outputs": [],
   "source": [
    "import numpy as np\n",
    "import matplotlib.pyplot as plt\n",
    "import pandas as pd\n",
    "from sklearn.model_selection import train_test_split\n",
    "from sklearn.preprocessing import StandardScaler\n",
    "from sklearn.svm import SVC\n",
    "from sklearn.neighbors import KNeighborsClassifier\n",
    "from sklearn.metrics import confusion_matrix\n",
    "from sklearn.model_selection import cross_val_score\n",
    "import seaborn as sns\n",
    "from sklearn.ensemble import RandomForestClassifier, AdaBoostClassifier\n",
    "from sklearn.tree import DecisionTreeClassifier\n",
    "from sklearn.naive_bayes import GaussianNB\n",
    "from sklearn.gaussian_process import GaussianProcessClassifier\n",
    "from sklearn.discriminant_analysis import QuadraticDiscriminantAnalysis\n",
    "from sklearn.neural_network import MLPClassifier\n",
    "from numpy import median"
   ]
  },
  {
   "cell_type": "code",
   "execution_count": 22,
   "id": "french-petersburg",
   "metadata": {},
   "outputs": [],
   "source": [
    "df = pd.read_csv(\"setapProcessT1.csv\")\n",
    "# df.head()\n",
    "df['SE Process grade'].replace(to_replace=[\"A\",\"F\"], value=[\"1\",\"2\"],inplace=True)\n",
    "# df.head()"
   ]
  },
  {
   "cell_type": "code",
   "execution_count": 23,
   "id": "confident-cornwall",
   "metadata": {},
   "outputs": [],
   "source": [
    "X = df.iloc[:, [0,83]].values\n",
    "y = df.iloc[:, 84].values\n",
    "\n",
    "X_train, X_test, y_train, y_test = train_test_split(X, y, test_size = 0.25, random_state = 0)\n",
    "\n",
    "sc = StandardScaler()\n",
    "X_train = sc.fit_transform(X_train)\n",
    "X_test = sc.transform(X_test)"
   ]
  },
  {
   "cell_type": "markdown",
   "id": "advanced-aspect",
   "metadata": {},
   "source": [
    "## SVM Classifier"
   ]
  },
  {
   "cell_type": "code",
   "execution_count": 29,
   "id": "individual-cemetery",
   "metadata": {},
   "outputs": [
    {
     "data": {
      "text/plain": [
       "SVC(random_state=0)"
      ]
     },
     "execution_count": 29,
     "metadata": {},
     "output_type": "execute_result"
    }
   ],
   "source": [
    "classifier = SVC(kernel = 'rbf', random_state = 0)\n",
    "classifier.fit(X_train, y_train)"
   ]
  },
  {
   "cell_type": "code",
   "execution_count": 48,
   "id": "thick-alias",
   "metadata": {},
   "outputs": [
    {
     "name": "stdout",
     "output_type": "stream",
     "text": [
      "['1' '1' '1' '1' '1' '1' '1' '1' '1' '1' '1' '1' '1' '1' '1' '1']\n",
      "[[11  0]\n",
      " [ 5  0]]\n"
     ]
    }
   ],
   "source": [
    "# c = classifier.fit(X_train, y_train).predict(X_test)\n",
    "# print(c)\n",
    "# # print(classification_report(y_test, y_predict, target_names=c))\n",
    "# print(confusion_matrix(y_test, c))"
   ]
  },
  {
   "cell_type": "code",
   "execution_count": 49,
   "id": "changed-stage",
   "metadata": {},
   "outputs": [
    {
     "data": {
      "text/plain": [
       "0.65"
      ]
     },
     "execution_count": 49,
     "metadata": {},
     "output_type": "execute_result"
    }
   ],
   "source": [
    "accuracies_svm = cross_val_score(estimator = classifier, X = X_train, y = y_train, cv = 10)\n",
    "accuracies_svm.mean()"
   ]
  },
  {
   "cell_type": "code",
   "execution_count": 40,
   "id": "original-assault",
   "metadata": {},
   "outputs": [
    {
     "name": "stdout",
     "output_type": "stream",
     "text": [
      "<class 'numpy.ndarray'>\n",
      "['1' '1' '1' '1' '1' '1' '2' '1' '1' '1' '1' '2' '2' '2' '2' '1']\n",
      "[1.         0.66666667 0.66666667 0.66666667 0.66666667 0.66666667\n",
      " 0.66666667 0.66666667 0.66666667 0.66666667 0.66666667 0.66666667\n",
      " 0.66666667 0.66666667 0.66666667 0.66666667]\n"
     ]
    }
   ],
   "source": [
    "print(type(accuracies_svm))\n",
    "print(y_test)\n",
    "accuracies_svm_new = accuracies_svm.astype(np.float)\n",
    "print(accuracies_svm_new)"
   ]
  },
  {
   "cell_type": "code",
   "execution_count": 41,
   "id": "advanced-match",
   "metadata": {},
   "outputs": [
    {
     "data": {
      "text/plain": [
       "0.08068715304598786"
      ]
     },
     "execution_count": 41,
     "metadata": {},
     "output_type": "execute_result"
    }
   ],
   "source": [
    "accuracies_svm.std()"
   ]
  },
  {
   "cell_type": "code",
   "execution_count": 42,
   "id": "furnished-material",
   "metadata": {},
   "outputs": [
    {
     "ename": "ValueError",
     "evalue": "Classification metrics can't handle a mix of binary and continuous targets",
     "output_type": "error",
     "traceback": [
      "\u001b[1;31m---------------------------------------------------------------------------\u001b[0m",
      "\u001b[1;31mValueError\u001b[0m                                Traceback (most recent call last)",
      "\u001b[1;32m<ipython-input-42-827d6d6f946c>\u001b[0m in \u001b[0;36m<module>\u001b[1;34m\u001b[0m\n\u001b[1;32m----> 1\u001b[1;33m \u001b[0mcm\u001b[0m \u001b[1;33m=\u001b[0m \u001b[0mconfusion_matrix\u001b[0m\u001b[1;33m(\u001b[0m\u001b[0my_test\u001b[0m\u001b[1;33m,\u001b[0m \u001b[0maccuracies_svm\u001b[0m\u001b[1;33m)\u001b[0m\u001b[1;33m\u001b[0m\u001b[1;33m\u001b[0m\u001b[0m\n\u001b[0m",
      "\u001b[1;32mD:\\Important\\Anaconda\\envs\\keras-gpu\\lib\\site-packages\\sklearn\\utils\\validation.py\u001b[0m in \u001b[0;36minner_f\u001b[1;34m(*args, **kwargs)\u001b[0m\n\u001b[0;32m     61\u001b[0m             \u001b[0mextra_args\u001b[0m \u001b[1;33m=\u001b[0m \u001b[0mlen\u001b[0m\u001b[1;33m(\u001b[0m\u001b[0margs\u001b[0m\u001b[1;33m)\u001b[0m \u001b[1;33m-\u001b[0m \u001b[0mlen\u001b[0m\u001b[1;33m(\u001b[0m\u001b[0mall_args\u001b[0m\u001b[1;33m)\u001b[0m\u001b[1;33m\u001b[0m\u001b[1;33m\u001b[0m\u001b[0m\n\u001b[0;32m     62\u001b[0m             \u001b[1;32mif\u001b[0m \u001b[0mextra_args\u001b[0m \u001b[1;33m<=\u001b[0m \u001b[1;36m0\u001b[0m\u001b[1;33m:\u001b[0m\u001b[1;33m\u001b[0m\u001b[1;33m\u001b[0m\u001b[0m\n\u001b[1;32m---> 63\u001b[1;33m                 \u001b[1;32mreturn\u001b[0m \u001b[0mf\u001b[0m\u001b[1;33m(\u001b[0m\u001b[1;33m*\u001b[0m\u001b[0margs\u001b[0m\u001b[1;33m,\u001b[0m \u001b[1;33m**\u001b[0m\u001b[0mkwargs\u001b[0m\u001b[1;33m)\u001b[0m\u001b[1;33m\u001b[0m\u001b[1;33m\u001b[0m\u001b[0m\n\u001b[0m\u001b[0;32m     64\u001b[0m \u001b[1;33m\u001b[0m\u001b[0m\n\u001b[0;32m     65\u001b[0m             \u001b[1;31m# extra_args > 0\u001b[0m\u001b[1;33m\u001b[0m\u001b[1;33m\u001b[0m\u001b[1;33m\u001b[0m\u001b[0m\n",
      "\u001b[1;32mD:\\Important\\Anaconda\\envs\\keras-gpu\\lib\\site-packages\\sklearn\\metrics\\_classification.py\u001b[0m in \u001b[0;36mconfusion_matrix\u001b[1;34m(y_true, y_pred, labels, sample_weight, normalize)\u001b[0m\n\u001b[0;32m    294\u001b[0m \u001b[1;33m\u001b[0m\u001b[0m\n\u001b[0;32m    295\u001b[0m     \"\"\"\n\u001b[1;32m--> 296\u001b[1;33m     \u001b[0my_type\u001b[0m\u001b[1;33m,\u001b[0m \u001b[0my_true\u001b[0m\u001b[1;33m,\u001b[0m \u001b[0my_pred\u001b[0m \u001b[1;33m=\u001b[0m \u001b[0m_check_targets\u001b[0m\u001b[1;33m(\u001b[0m\u001b[0my_true\u001b[0m\u001b[1;33m,\u001b[0m \u001b[0my_pred\u001b[0m\u001b[1;33m)\u001b[0m\u001b[1;33m\u001b[0m\u001b[1;33m\u001b[0m\u001b[0m\n\u001b[0m\u001b[0;32m    297\u001b[0m     \u001b[1;32mif\u001b[0m \u001b[0my_type\u001b[0m \u001b[1;32mnot\u001b[0m \u001b[1;32min\u001b[0m \u001b[1;33m(\u001b[0m\u001b[1;34m\"binary\"\u001b[0m\u001b[1;33m,\u001b[0m \u001b[1;34m\"multiclass\"\u001b[0m\u001b[1;33m)\u001b[0m\u001b[1;33m:\u001b[0m\u001b[1;33m\u001b[0m\u001b[1;33m\u001b[0m\u001b[0m\n\u001b[0;32m    298\u001b[0m         \u001b[1;32mraise\u001b[0m \u001b[0mValueError\u001b[0m\u001b[1;33m(\u001b[0m\u001b[1;34m\"%s is not supported\"\u001b[0m \u001b[1;33m%\u001b[0m \u001b[0my_type\u001b[0m\u001b[1;33m)\u001b[0m\u001b[1;33m\u001b[0m\u001b[1;33m\u001b[0m\u001b[0m\n",
      "\u001b[1;32mD:\\Important\\Anaconda\\envs\\keras-gpu\\lib\\site-packages\\sklearn\\metrics\\_classification.py\u001b[0m in \u001b[0;36m_check_targets\u001b[1;34m(y_true, y_pred)\u001b[0m\n\u001b[0;32m     91\u001b[0m     \u001b[1;32mif\u001b[0m \u001b[0mlen\u001b[0m\u001b[1;33m(\u001b[0m\u001b[0my_type\u001b[0m\u001b[1;33m)\u001b[0m \u001b[1;33m>\u001b[0m \u001b[1;36m1\u001b[0m\u001b[1;33m:\u001b[0m\u001b[1;33m\u001b[0m\u001b[1;33m\u001b[0m\u001b[0m\n\u001b[0;32m     92\u001b[0m         raise ValueError(\"Classification metrics can't handle a mix of {0} \"\n\u001b[1;32m---> 93\u001b[1;33m                          \"and {1} targets\".format(type_true, type_pred))\n\u001b[0m\u001b[0;32m     94\u001b[0m \u001b[1;33m\u001b[0m\u001b[0m\n\u001b[0;32m     95\u001b[0m     \u001b[1;31m# We can't have more than one value on y_type => The set is no more needed\u001b[0m\u001b[1;33m\u001b[0m\u001b[1;33m\u001b[0m\u001b[1;33m\u001b[0m\u001b[0m\n",
      "\u001b[1;31mValueError\u001b[0m: Classification metrics can't handle a mix of binary and continuous targets"
     ]
    }
   ],
   "source": [
    "cm = confusion_matrix(y_test, accuracies_svm)"
   ]
  },
  {
   "cell_type": "code",
   "execution_count": 346,
   "id": "nervous-suffering",
   "metadata": {},
   "outputs": [
    {
     "data": {
      "image/png": "[encoded data removed]",
      "text/plain": [
       "<Figure size 540x360 with 1 Axes>"
      ]
     },
     "metadata": {},
     "output_type": "display_data"
    }
   ],
   "source": [
    "scores_10_svm = pd.DataFrame(accuracies_svm,columns=['Scores SVM'])\n",
    "sns.catplot(x = ['Iter1','Iter2','Iter3','Iter4','Iter5','Iter6','Iter7','Iter8','Iter9','Iter10'],\n",
    "            y = 'Scores SVM', kind='bar', data = scores_10_svm, height=5, aspect=1.5)\n",
    "\n",
    "plt.title(\"SVM 10 CV\")\n",
    "plt.show()"
   ]
  },
  {
   "cell_type": "code",
   "execution_count": 347,
   "id": "olive-secretary",
   "metadata": {},
   "outputs": [
    {
     "data": {
      "text/plain": [
       "0.6466666666666666"
      ]
     },
     "execution_count": 347,
     "metadata": {},
     "output_type": "execute_result"
    }
   ],
   "source": [
    "accuracies_svm_new = cross_val_score(estimator = classifier, X = X_train, y = y_train, cv = 5)\n",
    "accuracies_svm_new.mean()"
   ]
  },
  {
   "cell_type": "code",
   "execution_count": 348,
   "id": "invalid-moore",
   "metadata": {},
   "outputs": [
    {
     "data": {
      "text/plain": [
       "0.0748331477354788"
      ]
     },
     "execution_count": 348,
     "metadata": {},
     "output_type": "execute_result"
    }
   ],
   "source": [
    "accuracies_svm_new.std()"
   ]
  },
  {
   "cell_type": "code",
   "execution_count": 349,
   "id": "following-allen",
   "metadata": {},
   "outputs": [
    {
     "data": {
      "image/png": "[encoded data removed]",
      "text/plain": [
       "<Figure size 540x360 with 1 Axes>"
      ]
     },
     "metadata": {},
     "output_type": "display_data"
    }
   ],
   "source": [
    "scores_5_svm = pd.DataFrame(accuracies_svm_new,columns=['Scores SVM'])\n",
    "sns.catplot(x = ['Iter1','Iter2','Iter3','Iter4','Iter5'],\n",
    "            y = 'Scores SVM', kind='bar', data = scores_5_svm, height=5, aspect=1.5)\n",
    "plt.title(\"SVM 5 CV\")\n",
    "plt.show()"
   ]
  },
  {
   "cell_type": "markdown",
   "id": "economic-theology",
   "metadata": {},
   "source": [
    "## KNN Classifier"
   ]
  },
  {
   "cell_type": "code",
   "execution_count": 350,
   "id": "focused-knife",
   "metadata": {},
   "outputs": [],
   "source": [
    "knn = KNeighborsClassifier(n_neighbors = 5)\n",
    "knn.fit(X_train, y_train)\n",
    "y_pred = knn.predict(X_test)"
   ]
  },
  {
   "cell_type": "code",
   "execution_count": 351,
   "id": "early-university",
   "metadata": {},
   "outputs": [
    {
     "data": {
      "text/plain": [
       "0.6900000000000001"
      ]
     },
     "execution_count": 351,
     "metadata": {},
     "output_type": "execute_result"
    }
   ],
   "source": [
    "accuracies_knn = cross_val_score(estimator = knn, X = X_train, y = y_train, cv = 10)\n",
    "accuracies_knn.mean()"
   ]
  },
  {
   "cell_type": "code",
   "execution_count": 352,
   "id": "angry-empty",
   "metadata": {},
   "outputs": [
    {
     "data": {
      "text/plain": [
       "0.09165151389911683"
      ]
     },
     "execution_count": 352,
     "metadata": {},
     "output_type": "execute_result"
    }
   ],
   "source": [
    "accuracies_knn.std()"
   ]
  },
  {
   "cell_type": "code",
   "execution_count": 353,
   "id": "handled-agenda",
   "metadata": {},
   "outputs": [
    {
     "data": {
      "image/png": "[encoded data removed]",
      "text/plain": [
       "<Figure size 540x360 with 1 Axes>"
      ]
     },
     "metadata": {},
     "output_type": "display_data"
    }
   ],
   "source": [
    "scores_10_knn = pd.DataFrame(accuracies_knn,columns=['Scores KNN'])\n",
    "sns.catplot(x = ['Iter1','Iter2','Iter3','Iter4','Iter5','Iter6','Iter7','Iter8','Iter9','Iter10'],\n",
    "            y = 'Scores KNN', kind='bar', data = scores_10_knn, height=5, aspect=1.5)\n",
    "plt.title(\"KNN 10 CV\")\n",
    "plt.show()"
   ]
  },
  {
   "cell_type": "code",
   "execution_count": 354,
   "id": "going-layer",
   "metadata": {},
   "outputs": [
    {
     "data": {
      "text/plain": [
       "0.6866666666666665"
      ]
     },
     "execution_count": 354,
     "metadata": {},
     "output_type": "execute_result"
    }
   ],
   "source": [
    "accuracies_knn_new = cross_val_score(estimator = knn, X = X_train, y = y_train, cv = 5)\n",
    "accuracies_knn_new.mean()"
   ]
  },
  {
   "cell_type": "code",
   "execution_count": 355,
   "id": "accessory-slide",
   "metadata": {},
   "outputs": [
    {
     "data": {
      "text/plain": [
       "0.016329931618554516"
      ]
     },
     "execution_count": 355,
     "metadata": {},
     "output_type": "execute_result"
    }
   ],
   "source": [
    "accuracies_knn_new.std()"
   ]
  },
  {
   "cell_type": "code",
   "execution_count": 356,
   "id": "sacred-therapist",
   "metadata": {},
   "outputs": [
    {
     "data": {
      "image/png": "[encoded data removed]",
      "text/plain": [
       "<Figure size 540x360 with 1 Axes>"
      ]
     },
     "metadata": {},
     "output_type": "display_data"
    }
   ],
   "source": [
    "scores_5_knn = pd.DataFrame(accuracies_knn_new,columns=['Scores KNN'])\n",
    "sns.catplot(x = ['Iter1','Iter2','Iter3','Iter4','Iter5'],\n",
    "            y = 'Scores KNN', kind='bar', data = scores_5_knn, height=5, aspect=1.5)\n",
    "plt.title(\"KNN 5 CV\")\n",
    "plt.show()"
   ]
  },
  {
   "cell_type": "markdown",
   "id": "corrected-sleeve",
   "metadata": {},
   "source": [
    "## Random Forest Classifier"
   ]
  },
  {
   "cell_type": "code",
   "execution_count": 423,
   "id": "invalid-azerbaijan",
   "metadata": {},
   "outputs": [],
   "source": [
    "random_forest = RandomForestClassifier(n_estimators=100)\n",
    "random_forest.fit(X_train, y_train)\n",
    "y_pred = random_forest.predict(X_test)"
   ]
  },
  {
   "cell_type": "code",
   "execution_count": 424,
   "id": "japanese-athens",
   "metadata": {},
   "outputs": [
    {
     "data": {
      "text/plain": [
       "0.695"
      ]
     },
     "execution_count": 424,
     "metadata": {},
     "output_type": "execute_result"
    }
   ],
   "source": [
    "accuracies_random_forest = cross_val_score(estimator = random_forest, X = X_train, y = y_train, cv = 10)\n",
    "accuracies_random_forest.mean()"
   ]
  },
  {
   "cell_type": "code",
   "execution_count": 425,
   "id": "decimal-taste",
   "metadata": {},
   "outputs": [
    {
     "data": {
      "text/plain": [
       "0.15882380174268593"
      ]
     },
     "execution_count": 425,
     "metadata": {},
     "output_type": "execute_result"
    }
   ],
   "source": [
    "accuracies_random_forest.std()"
   ]
  },
  {
   "cell_type": "code",
   "execution_count": 426,
   "id": "interesting-mexican",
   "metadata": {},
   "outputs": [
    {
     "data": {
      "image/png": "[encoded data removed]",
      "text/plain": [
       "<Figure size 540x360 with 1 Axes>"
      ]
     },
     "metadata": {},
     "output_type": "display_data"
    }
   ],
   "source": [
    "scores_10_random_forest = pd.DataFrame(accuracies_random_forest,columns=['Scores Random Forest'])\n",
    "sns.catplot(x = ['Iter1','Iter2','Iter3','Iter4','Iter5','Iter6','Iter7','Iter8','Iter9','Iter10'],\n",
    "            y = 'Scores Random Forest', kind='bar', data = scores_10_random_forest, height=5, aspect=1.5)\n",
    "plt.title(\"Random Forest 10 CV\")\n",
    "plt.show()"
   ]
  },
  {
   "cell_type": "code",
   "execution_count": 427,
   "id": "hired-million",
   "metadata": {},
   "outputs": [
    {
     "data": {
      "text/plain": [
       "0.7288888888888889"
      ]
     },
     "execution_count": 427,
     "metadata": {},
     "output_type": "execute_result"
    }
   ],
   "source": [
    "accuracies_random_forest_new = cross_val_score(estimator = random_forest, X = X_train, y = y_train, cv = 5)\n",
    "accuracies_random_forest_new.mean()"
   ]
  },
  {
   "cell_type": "code",
   "execution_count": 428,
   "id": "opposite-registration",
   "metadata": {},
   "outputs": [
    {
     "data": {
      "text/plain": [
       "0.05096597751635432"
      ]
     },
     "execution_count": 428,
     "metadata": {},
     "output_type": "execute_result"
    }
   ],
   "source": [
    "accuracies_random_forest_new.std()"
   ]
  },
  {
   "cell_type": "code",
   "execution_count": 429,
   "id": "fresh-consensus",
   "metadata": {},
   "outputs": [
    {
     "data": {
      "image/png": "[encoded data removed]",
      "text/plain": [
       "<Figure size 540x360 with 1 Axes>"
      ]
     },
     "metadata": {},
     "output_type": "display_data"
    }
   ],
   "source": [
    "scores_5_random_forest = pd.DataFrame(accuracies_random_forest_new,columns=['Scores Random Forest'])\n",
    "sns.catplot(x = ['Iter1','Iter2','Iter3','Iter4','Iter5'],\n",
    "            y = 'Scores Random Forest', kind='bar', data = scores_5_random_forest, height=5, aspect=1.5)\n",
    "plt.title(\"Random Forest 5 CV\")\n",
    "plt.show()"
   ]
  },
  {
   "cell_type": "markdown",
   "id": "imported-teens",
   "metadata": {},
   "source": [
    "## Decision Tree Classifier"
   ]
  },
  {
   "cell_type": "code",
   "execution_count": 369,
   "id": "sexual-investigation",
   "metadata": {},
   "outputs": [],
   "source": [
    "decision_tree = DecisionTreeClassifier(criterion='entropy')\n",
    "decision_tree.fit(X_train, y_train)\n",
    "y_pred = decision_tree.predict(X_test)"
   ]
  },
  {
   "cell_type": "code",
   "execution_count": 370,
   "id": "meaning-theology",
   "metadata": {},
   "outputs": [
    {
     "data": {
      "text/plain": [
       "0.735"
      ]
     },
     "execution_count": 370,
     "metadata": {},
     "output_type": "execute_result"
    }
   ],
   "source": [
    "accuracies_decision_tree = cross_val_score(estimator = decision_tree, X = X_train, y = y_train, cv = 10)\n",
    "accuracies_decision_tree.mean()"
   ]
  },
  {
   "cell_type": "code",
   "execution_count": 371,
   "id": "actual-pledge",
   "metadata": {},
   "outputs": [
    {
     "data": {
      "text/plain": [
       "0.12658988901172163"
      ]
     },
     "execution_count": 371,
     "metadata": {},
     "output_type": "execute_result"
    }
   ],
   "source": [
    "accuracies_decision_tree.std()"
   ]
  },
  {
   "cell_type": "code",
   "execution_count": 372,
   "id": "lined-child",
   "metadata": {},
   "outputs": [
    {
     "data": {
      "image/png": "[encoded data removed]",
      "text/plain": [
       "<Figure size 540x360 with 1 Axes>"
      ]
     },
     "metadata": {},
     "output_type": "display_data"
    }
   ],
   "source": [
    "scores_10_decision_tree = pd.DataFrame(accuracies_decision_tree,columns=['Scores Decision Tree'])\n",
    "sns.catplot(x = ['Iter1','Iter2','Iter3','Iter4','Iter5','Iter6','Iter7','Iter8','Iter9','Iter10'],\n",
    "            y = 'Scores Decision Tree', kind='bar', data = scores_10_decision_tree, height=5, aspect=1.5)\n",
    "plt.title(\"Decision Tree 10 CV\")\n",
    "plt.show()"
   ]
  },
  {
   "cell_type": "code",
   "execution_count": 373,
   "id": "nervous-character",
   "metadata": {},
   "outputs": [
    {
     "data": {
      "text/plain": [
       "0.7288888888888889"
      ]
     },
     "execution_count": 373,
     "metadata": {},
     "output_type": "execute_result"
    }
   ],
   "source": [
    "accuracies_decision_tree_new = cross_val_score(estimator = decision_tree, X = X_train, y = y_train, cv = 5)\n",
    "accuracies_decision_tree_new.mean()"
   ]
  },
  {
   "cell_type": "code",
   "execution_count": 374,
   "id": "extensive-catalog",
   "metadata": {},
   "outputs": [
    {
     "data": {
      "text/plain": [
       "0.05096597751635432"
      ]
     },
     "execution_count": 374,
     "metadata": {},
     "output_type": "execute_result"
    }
   ],
   "source": [
    "accuracies_decision_tree_new.std()"
   ]
  },
  {
   "cell_type": "code",
   "execution_count": 375,
   "id": "simplified-hurricane",
   "metadata": {},
   "outputs": [
    {
     "data": {
      "image/png": "[encoded data removed]",
      "text/plain": [
       "<Figure size 540x360 with 1 Axes>"
      ]
     },
     "metadata": {},
     "output_type": "display_data"
    }
   ],
   "source": [
    "scores_5_decision_tree = pd.DataFrame(accuracies_decision_tree_new,columns=['Scores Decision Tree'])\n",
    "sns.catplot(x = ['Iter1','Iter2','Iter3','Iter4','Iter5'],\n",
    "            y = 'Scores Decision Tree', kind='bar', data = scores_5_decision_tree, height=5, aspect=1.5)\n",
    "plt.title(\"Decision Tree 5 CV\")\n",
    "plt.show()"
   ]
  },
  {
   "cell_type": "markdown",
   "id": "linear-tourism",
   "metadata": {},
   "source": [
    "## Naive Bayes Classifier"
   ]
  },
  {
   "cell_type": "code",
   "execution_count": 377,
   "id": "adaptive-northwest",
   "metadata": {},
   "outputs": [],
   "source": [
    "gnb = GaussianNB()\n",
    "gnb.fit(X_train, y_train)\n",
    "y_pred = gnb.predict(X_test)"
   ]
  },
  {
   "cell_type": "code",
   "execution_count": 378,
   "id": "incomplete-large",
   "metadata": {},
   "outputs": [
    {
     "data": {
      "text/plain": [
       "0.6300000000000001"
      ]
     },
     "execution_count": 378,
     "metadata": {},
     "output_type": "execute_result"
    }
   ],
   "source": [
    "accuracies_gnb = cross_val_score(estimator = gnb, X = X_train, y = y_train, cv = 10)\n",
    "accuracies_gnb.mean()"
   ]
  },
  {
   "cell_type": "code",
   "execution_count": 379,
   "id": "abroad-isolation",
   "metadata": {},
   "outputs": [
    {
     "data": {
      "text/plain": [
       "0.13999999999999999"
      ]
     },
     "execution_count": 379,
     "metadata": {},
     "output_type": "execute_result"
    }
   ],
   "source": [
    "accuracies_gnb.std()"
   ]
  },
  {
   "cell_type": "code",
   "execution_count": 380,
   "id": "liked-aquarium",
   "metadata": {},
   "outputs": [
    {
     "data": {
      "image/png": "[encoded data removed]",
      "text/plain": [
       "<Figure size 540x360 with 1 Axes>"
      ]
     },
     "metadata": {},
     "output_type": "display_data"
    }
   ],
   "source": [
    "scores_10_gnb = pd.DataFrame(accuracies_gnb,columns=['Scores Naive Bayes'])\n",
    "sns.catplot(x = ['Iter1','Iter2','Iter3','Iter4','Iter5','Iter6','Iter7','Iter8','Iter9','Iter10'],\n",
    "            y = 'Scores Naive Bayes', kind='bar', data = scores_10_gnb, height=5, aspect=1.5)\n",
    "plt.title(\"Decision Tree 10 CV\")\n",
    "plt.show()"
   ]
  },
  {
   "cell_type": "code",
   "execution_count": 381,
   "id": "worth-pacific",
   "metadata": {},
   "outputs": [
    {
     "data": {
      "text/plain": [
       "0.6466666666666666"
      ]
     },
     "execution_count": 381,
     "metadata": {},
     "output_type": "execute_result"
    }
   ],
   "source": [
    "accuracies_gnb_new = cross_val_score(estimator = gnb, X = X_train, y = y_train, cv = 5)\n",
    "accuracies_gnb_new.mean()"
   ]
  },
  {
   "cell_type": "code",
   "execution_count": 382,
   "id": "sized-favorite",
   "metadata": {},
   "outputs": [
    {
     "data": {
      "text/plain": [
       "0.0748331477354788"
      ]
     },
     "execution_count": 382,
     "metadata": {},
     "output_type": "execute_result"
    }
   ],
   "source": [
    "accuracies_gnb_new.std()"
   ]
  },
  {
   "cell_type": "code",
   "execution_count": 383,
   "id": "square-vatican",
   "metadata": {},
   "outputs": [
    {
     "data": {
      "image/png": "[encoded data removed]",
      "text/plain": [
       "<Figure size 540x360 with 1 Axes>"
      ]
     },
     "metadata": {},
     "output_type": "display_data"
    }
   ],
   "source": [
    "scores_5_gnb = pd.DataFrame(accuracies_gnb_new,columns=['Scores Naive Bayes'])\n",
    "sns.catplot(x = ['Iter1','Iter2','Iter3','Iter4','Iter5'],\n",
    "            y = 'Scores Naive Bayes', kind='bar', data = scores_5_gnb, height=5, aspect=1.5)\n",
    "plt.title(\"Decision Tree 5 CV\")\n",
    "plt.show()"
   ]
  },
  {
   "cell_type": "markdown",
   "id": "herbal-variable",
   "metadata": {},
   "source": [
    "## Gaussian Process Classifier"
   ]
  },
  {
   "cell_type": "code",
   "execution_count": 385,
   "id": "pleasant-blanket",
   "metadata": {},
   "outputs": [],
   "source": [
    "gaussian_pc = GaussianProcessClassifier()\n",
    "gaussian_pc.fit(X_train, y_train)\n",
    "y_pred = gaussian_pc.predict(X_test)"
   ]
  },
  {
   "cell_type": "code",
   "execution_count": 386,
   "id": "fifth-pilot",
   "metadata": {},
   "outputs": [
    {
     "data": {
      "text/plain": [
       "0.65"
      ]
     },
     "execution_count": 386,
     "metadata": {},
     "output_type": "execute_result"
    }
   ],
   "source": [
    "accuracies_gaussian_pc = cross_val_score(estimator = gaussian_pc, X = X_train, y = y_train, cv = 10)\n",
    "accuracies_gaussian_pc.mean()"
   ]
  },
  {
   "cell_type": "code",
   "execution_count": 387,
   "id": "laden-plate",
   "metadata": {},
   "outputs": [
    {
     "data": {
      "text/plain": [
       "0.11832159566199232"
      ]
     },
     "execution_count": 387,
     "metadata": {},
     "output_type": "execute_result"
    }
   ],
   "source": [
    "accuracies_gaussian_pc.std()"
   ]
  },
  {
   "cell_type": "code",
   "execution_count": 391,
   "id": "driving-disorder",
   "metadata": {},
   "outputs": [
    {
     "data": {
      "image/png": "[encoded data removed]",
      "text/plain": [
       "<Figure size 540x360 with 1 Axes>"
      ]
     },
     "metadata": {},
     "output_type": "display_data"
    }
   ],
   "source": [
    "scores_10_gaussian_pc = pd.DataFrame(accuracies_gaussian_pc,columns=['Scores Gaussian Process'])\n",
    "sns.catplot(x = ['Iter1','Iter2','Iter3','Iter4','Iter5','Iter6','Iter7','Iter8','Iter9','Iter10'],\n",
    "            y = 'Scores Gaussian Process', kind='bar', data = scores_10_gaussian_pc, height=5, aspect=1.5)\n",
    "plt.title(\"Gaussian Process 10 CV\")\n",
    "plt.show()"
   ]
  },
  {
   "cell_type": "code",
   "execution_count": 389,
   "id": "proper-canyon",
   "metadata": {},
   "outputs": [
    {
     "data": {
      "text/plain": [
       "0.6466666666666666"
      ]
     },
     "execution_count": 389,
     "metadata": {},
     "output_type": "execute_result"
    }
   ],
   "source": [
    "accuracies_gaussian_pc_new = cross_val_score(estimator = gaussian_pc, X = X_train, y = y_train, cv = 5)\n",
    "accuracies_gaussian_pc_new.mean()"
   ]
  },
  {
   "cell_type": "code",
   "execution_count": 392,
   "id": "greatest-programmer",
   "metadata": {},
   "outputs": [
    {
     "data": {
      "text/plain": [
       "0.0748331477354788"
      ]
     },
     "execution_count": 392,
     "metadata": {},
     "output_type": "execute_result"
    }
   ],
   "source": [
    "accuracies_gaussian_pc_new.std()"
   ]
  },
  {
   "cell_type": "code",
   "execution_count": 393,
   "id": "northern-christian",
   "metadata": {},
   "outputs": [
    {
     "data": {
      "image/png": "[encoded data removed]",
      "text/plain": [
       "<Figure size 540x360 with 1 Axes>"
      ]
     },
     "metadata": {},
     "output_type": "display_data"
    }
   ],
   "source": [
    "scores_5_gaussian_pc = pd.DataFrame(accuracies_gaussian_pc_new,columns=['Scores Gaussian Process'])\n",
    "sns.catplot(x = ['Iter1','Iter2','Iter3','Iter4','Iter5'],\n",
    "            y = 'Scores Gaussian Process', kind='bar', data = scores_5_gaussian_pc, height=5, aspect=1.5)\n",
    "plt.title(\"Gaussian Process 5 CV\")\n",
    "plt.show()"
   ]
  },
  {
   "cell_type": "markdown",
   "id": "superior-substance",
   "metadata": {},
   "source": [
    "## MLP Classifier "
   ]
  },
  {
   "cell_type": "code",
   "execution_count": 413,
   "id": "suburban-distance",
   "metadata": {},
   "outputs": [],
   "source": [
    "mlp = MLPClassifier(alpha=1, max_iter=1000)\n",
    "mlp.fit(X_train, y_train)\n",
    "y_pred = mlp.predict(X_test)"
   ]
  },
  {
   "cell_type": "code",
   "execution_count": 414,
   "id": "damaged-joseph",
   "metadata": {},
   "outputs": [
    {
     "data": {
      "text/plain": [
       "0.6900000000000001"
      ]
     },
     "execution_count": 414,
     "metadata": {},
     "output_type": "execute_result"
    }
   ],
   "source": [
    "accuracies_mlp = cross_val_score(estimator = mlp, X = X_train, y = y_train, cv = 10)\n",
    "accuracies_mlp.mean()"
   ]
  },
  {
   "cell_type": "code",
   "execution_count": 415,
   "id": "disabled-stand",
   "metadata": {},
   "outputs": [
    {
     "data": {
      "text/plain": [
       "0.09165151389911683"
      ]
     },
     "execution_count": 415,
     "metadata": {},
     "output_type": "execute_result"
    }
   ],
   "source": [
    "accuracies_mlp.std()"
   ]
  },
  {
   "cell_type": "code",
   "execution_count": 416,
   "id": "composite-alliance",
   "metadata": {},
   "outputs": [
    {
     "data": {
      "image/png": "[encoded data removed]",
      "text/plain": [
       "<Figure size 540x360 with 1 Axes>"
      ]
     },
     "metadata": {},
     "output_type": "display_data"
    }
   ],
   "source": [
    "scores_10_mlp = pd.DataFrame(accuracies_mlp,columns=['Scores MLP'])\n",
    "sns.catplot(x = ['Iter1','Iter2','Iter3','Iter4','Iter5','Iter6','Iter7','Iter8','Iter9','Iter10'],\n",
    "            y = 'Scores MLP', kind='bar', data = scores_10_mlp, height=5, aspect=1.5)\n",
    "plt.title(\"MLP 10 CV\")\n",
    "plt.show()"
   ]
  },
  {
   "cell_type": "code",
   "execution_count": 417,
   "id": "absolute-belief",
   "metadata": {},
   "outputs": [
    {
     "data": {
      "text/plain": [
       "0.6866666666666665"
      ]
     },
     "execution_count": 417,
     "metadata": {},
     "output_type": "execute_result"
    }
   ],
   "source": [
    "accuracies_mlp_new = cross_val_score(estimator = mlp, X = X_train, y = y_train, cv = 5)\n",
    "accuracies_mlp_new.mean()"
   ]
  },
  {
   "cell_type": "code",
   "execution_count": 418,
   "id": "traditional-garlic",
   "metadata": {},
   "outputs": [
    {
     "data": {
      "text/plain": [
       "0.016329931618554516"
      ]
     },
     "execution_count": 418,
     "metadata": {},
     "output_type": "execute_result"
    }
   ],
   "source": [
    "accuracies_mlp_new.std()"
   ]
  },
  {
   "cell_type": "code",
   "execution_count": 419,
   "id": "close-poultry",
   "metadata": {},
   "outputs": [
    {
     "data": {
      "image/png": "[encoded data removed]",
      "text/plain": [
       "<Figure size 540x360 with 1 Axes>"
      ]
     },
     "metadata": {},
     "output_type": "display_data"
    }
   ],
   "source": [
    "scores_5_mlp = pd.DataFrame(accuracies_mlp_new,columns=['Scores MLP'])\n",
    "sns.catplot(x = ['Iter1','Iter2','Iter3','Iter4','Iter5'],\n",
    "            y = 'Scores MLP', kind='bar', data = scores_5_mlp, height=5, aspect=1.5)\n",
    "plt.title(\"MLP 5 CV\")\n",
    "plt.show()"
   ]
  },
  {
   "cell_type": "markdown",
   "id": "accessible-cornell",
   "metadata": {},
   "source": [
    "## AdaBoost Classifier"
   ]
  },
  {
   "cell_type": "code",
   "execution_count": 433,
   "id": "subtle-editor",
   "metadata": {},
   "outputs": [],
   "source": [
    "adaBoost_cf = AdaBoostClassifier()\n",
    "adaBoost_cf.fit(X_train, y_train)\n",
    "y_pred = adaBoost_cf.predict(X_test)"
   ]
  },
  {
   "cell_type": "code",
   "execution_count": 434,
   "id": "south-assumption",
   "metadata": {},
   "outputs": [
    {
     "data": {
      "text/plain": [
       "0.695"
      ]
     },
     "execution_count": 434,
     "metadata": {},
     "output_type": "execute_result"
    }
   ],
   "source": [
    "accuracies_adaBoost_cf = cross_val_score(estimator = adaBoost_cf, X = X_train, y = y_train, cv = 10)\n",
    "accuracies_adaBoost_cf.mean()"
   ]
  },
  {
   "cell_type": "code",
   "execution_count": 435,
   "id": "allied-medicaid",
   "metadata": {},
   "outputs": [
    {
     "data": {
      "text/plain": [
       "0.15882380174268593"
      ]
     },
     "execution_count": 435,
     "metadata": {},
     "output_type": "execute_result"
    }
   ],
   "source": [
    "accuracies_adaBoost_cf.std()"
   ]
  },
  {
   "cell_type": "code",
   "execution_count": 436,
   "id": "built-syracuse",
   "metadata": {},
   "outputs": [
    {
     "data": {
      "image/png": "[encoded data removed]",
      "text/plain": [
       "<Figure size 540x360 with 1 Axes>"
      ]
     },
     "metadata": {},
     "output_type": "display_data"
    }
   ],
   "source": [
    "scores_10_adaBoost_cf = pd.DataFrame(accuracies_adaBoost_cf,columns=['Scores AdaBoost Classifier'])\n",
    "sns.catplot(x = ['Iter1','Iter2','Iter3','Iter4','Iter5','Iter6','Iter7','Iter8','Iter9','Iter10'],\n",
    "            y = 'Scores AdaBoost Classifier', kind='bar', data = scores_10_adaBoost_cf, height=5, aspect=1.5)\n",
    "plt.title(\"AdaBoost Classifier 10 CV\")\n",
    "plt.show()"
   ]
  },
  {
   "cell_type": "code",
   "execution_count": 437,
   "id": "answering-funds",
   "metadata": {},
   "outputs": [
    {
     "data": {
      "text/plain": [
       "0.6888888888888889"
      ]
     },
     "execution_count": 437,
     "metadata": {},
     "output_type": "execute_result"
    }
   ],
   "source": [
    "accuracies_adaBoost_cf_new = cross_val_score(estimator = adaBoost_cf, X = X_train, y = y_train, cv = 5)\n",
    "accuracies_adaBoost_cf_new.mean()"
   ]
  },
  {
   "cell_type": "code",
   "execution_count": 438,
   "id": "latter-metropolitan",
   "metadata": {},
   "outputs": [
    {
     "data": {
      "text/plain": [
       "0.1063420987911591"
      ]
     },
     "execution_count": 438,
     "metadata": {},
     "output_type": "execute_result"
    }
   ],
   "source": [
    "accuracies_adaBoost_cf_new.std()"
   ]
  },
  {
   "cell_type": "code",
   "execution_count": 439,
   "id": "british-fishing",
   "metadata": {},
   "outputs": [
    {
     "data": {
      "image/png": "[encoded data removed]",
      "text/plain": [
       "<Figure size 540x360 with 1 Axes>"
      ]
     },
     "metadata": {},
     "output_type": "display_data"
    }
   ],
   "source": [
    "scores_5_adaBoost_cf = pd.DataFrame(accuracies_adaBoost_cf_new,columns=['Scores AdaBoost Classifier'])\n",
    "sns.catplot(x = ['Iter1','Iter2','Iter3','Iter4','Iter5'],\n",
    "            y = 'Scores AdaBoost Classifier', kind='bar', data = scores_5_adaBoost_cf, height=5, aspect=1.5)\n",
    "plt.title(\"AdaBoost Classifier 5 CV\")\n",
    "plt.show()"
   ]
  },
  {
   "cell_type": "markdown",
   "id": "technological-april",
   "metadata": {},
   "source": [
    "## Quadratic Discriminant Analysis "
   ]
  },
  {
   "cell_type": "code",
   "execution_count": 441,
   "id": "built-programming",
   "metadata": {},
   "outputs": [
    {
     "name": "stderr",
     "output_type": "stream",
     "text": [
      "D:\\Important\\Anaconda\\envs\\keras-gpu\\lib\\site-packages\\sklearn\\discriminant_analysis.py:808: UserWarning: Variables are collinear\n",
      "  warnings.warn(\"Variables are collinear\")\n",
      "D:\\Important\\Anaconda\\envs\\keras-gpu\\lib\\site-packages\\sklearn\\discriminant_analysis.py:833: RuntimeWarning: divide by zero encountered in power\n",
      "  X2 = np.dot(Xm, R * (S ** (-0.5)))\n",
      "D:\\Important\\Anaconda\\envs\\keras-gpu\\lib\\site-packages\\sklearn\\discriminant_analysis.py:833: RuntimeWarning: invalid value encountered in multiply\n",
      "  X2 = np.dot(Xm, R * (S ** (-0.5)))\n",
      "D:\\Important\\Anaconda\\envs\\keras-gpu\\lib\\site-packages\\sklearn\\discriminant_analysis.py:836: RuntimeWarning: divide by zero encountered in log\n",
      "  u = np.asarray([np.sum(np.log(s)) for s in self.scalings_])\n"
     ]
    }
   ],
   "source": [
    "qda_cf = QuadraticDiscriminantAnalysis()\n",
    "qda_cf.fit(X_train, y_train)\n",
    "y_pred = qda_cf.predict(X_test)"
   ]
  },
  {
   "cell_type": "code",
   "execution_count": 442,
   "id": "heavy-delhi",
   "metadata": {},
   "outputs": [
    {
     "name": "stderr",
     "output_type": "stream",
     "text": [
      "D:\\Important\\Anaconda\\envs\\keras-gpu\\lib\\site-packages\\sklearn\\discriminant_analysis.py:808: UserWarning: Variables are collinear\n",
      "  warnings.warn(\"Variables are collinear\")\n",
      "D:\\Important\\Anaconda\\envs\\keras-gpu\\lib\\site-packages\\sklearn\\discriminant_analysis.py:833: RuntimeWarning: divide by zero encountered in power\n",
      "  X2 = np.dot(Xm, R * (S ** (-0.5)))\n",
      "D:\\Important\\Anaconda\\envs\\keras-gpu\\lib\\site-packages\\sklearn\\discriminant_analysis.py:833: RuntimeWarning: invalid value encountered in multiply\n",
      "  X2 = np.dot(Xm, R * (S ** (-0.5)))\n",
      "D:\\Important\\Anaconda\\envs\\keras-gpu\\lib\\site-packages\\sklearn\\discriminant_analysis.py:836: RuntimeWarning: divide by zero encountered in log\n",
      "  u = np.asarray([np.sum(np.log(s)) for s in self.scalings_])\n",
      "D:\\Important\\Anaconda\\envs\\keras-gpu\\lib\\site-packages\\sklearn\\discriminant_analysis.py:808: UserWarning: Variables are collinear\n",
      "  warnings.warn(\"Variables are collinear\")\n",
      "D:\\Important\\Anaconda\\envs\\keras-gpu\\lib\\site-packages\\sklearn\\discriminant_analysis.py:833: RuntimeWarning: divide by zero encountered in power\n",
      "  X2 = np.dot(Xm, R * (S ** (-0.5)))\n",
      "D:\\Important\\Anaconda\\envs\\keras-gpu\\lib\\site-packages\\sklearn\\discriminant_analysis.py:833: RuntimeWarning: invalid value encountered in multiply\n",
      "  X2 = np.dot(Xm, R * (S ** (-0.5)))\n",
      "D:\\Important\\Anaconda\\envs\\keras-gpu\\lib\\site-packages\\sklearn\\discriminant_analysis.py:836: RuntimeWarning: divide by zero encountered in log\n",
      "  u = np.asarray([np.sum(np.log(s)) for s in self.scalings_])\n",
      "D:\\Important\\Anaconda\\envs\\keras-gpu\\lib\\site-packages\\sklearn\\discriminant_analysis.py:808: UserWarning: Variables are collinear\n",
      "  warnings.warn(\"Variables are collinear\")\n",
      "D:\\Important\\Anaconda\\envs\\keras-gpu\\lib\\site-packages\\sklearn\\discriminant_analysis.py:833: RuntimeWarning: divide by zero encountered in power\n",
      "  X2 = np.dot(Xm, R * (S ** (-0.5)))\n",
      "D:\\Important\\Anaconda\\envs\\keras-gpu\\lib\\site-packages\\sklearn\\discriminant_analysis.py:833: RuntimeWarning: invalid value encountered in multiply\n",
      "  X2 = np.dot(Xm, R * (S ** (-0.5)))\n",
      "D:\\Important\\Anaconda\\envs\\keras-gpu\\lib\\site-packages\\sklearn\\discriminant_analysis.py:836: RuntimeWarning: divide by zero encountered in log\n",
      "  u = np.asarray([np.sum(np.log(s)) for s in self.scalings_])\n",
      "D:\\Important\\Anaconda\\envs\\keras-gpu\\lib\\site-packages\\sklearn\\discriminant_analysis.py:808: UserWarning: Variables are collinear\n",
      "  warnings.warn(\"Variables are collinear\")\n",
      "D:\\Important\\Anaconda\\envs\\keras-gpu\\lib\\site-packages\\sklearn\\discriminant_analysis.py:833: RuntimeWarning: divide by zero encountered in power\n",
      "  X2 = np.dot(Xm, R * (S ** (-0.5)))\n",
      "D:\\Important\\Anaconda\\envs\\keras-gpu\\lib\\site-packages\\sklearn\\discriminant_analysis.py:833: RuntimeWarning: invalid value encountered in multiply\n",
      "  X2 = np.dot(Xm, R * (S ** (-0.5)))\n",
      "D:\\Important\\Anaconda\\envs\\keras-gpu\\lib\\site-packages\\sklearn\\discriminant_analysis.py:836: RuntimeWarning: divide by zero encountered in log\n",
      "  u = np.asarray([np.sum(np.log(s)) for s in self.scalings_])\n",
      "D:\\Important\\Anaconda\\envs\\keras-gpu\\lib\\site-packages\\sklearn\\discriminant_analysis.py:808: UserWarning: Variables are collinear\n",
      "  warnings.warn(\"Variables are collinear\")\n",
      "D:\\Important\\Anaconda\\envs\\keras-gpu\\lib\\site-packages\\sklearn\\discriminant_analysis.py:833: RuntimeWarning: divide by zero encountered in power\n",
      "  X2 = np.dot(Xm, R * (S ** (-0.5)))\n",
      "D:\\Important\\Anaconda\\envs\\keras-gpu\\lib\\site-packages\\sklearn\\discriminant_analysis.py:833: RuntimeWarning: invalid value encountered in multiply\n",
      "  X2 = np.dot(Xm, R * (S ** (-0.5)))\n",
      "D:\\Important\\Anaconda\\envs\\keras-gpu\\lib\\site-packages\\sklearn\\discriminant_analysis.py:836: RuntimeWarning: divide by zero encountered in log\n",
      "  u = np.asarray([np.sum(np.log(s)) for s in self.scalings_])\n",
      "D:\\Important\\Anaconda\\envs\\keras-gpu\\lib\\site-packages\\sklearn\\discriminant_analysis.py:808: UserWarning: Variables are collinear\n",
      "  warnings.warn(\"Variables are collinear\")\n",
      "D:\\Important\\Anaconda\\envs\\keras-gpu\\lib\\site-packages\\sklearn\\discriminant_analysis.py:833: RuntimeWarning: divide by zero encountered in power\n",
      "  X2 = np.dot(Xm, R * (S ** (-0.5)))\n",
      "D:\\Important\\Anaconda\\envs\\keras-gpu\\lib\\site-packages\\sklearn\\discriminant_analysis.py:833: RuntimeWarning: invalid value encountered in multiply\n",
      "  X2 = np.dot(Xm, R * (S ** (-0.5)))\n",
      "D:\\Important\\Anaconda\\envs\\keras-gpu\\lib\\site-packages\\sklearn\\discriminant_analysis.py:836: RuntimeWarning: divide by zero encountered in log\n",
      "  u = np.asarray([np.sum(np.log(s)) for s in self.scalings_])\n",
      "D:\\Important\\Anaconda\\envs\\keras-gpu\\lib\\site-packages\\sklearn\\discriminant_analysis.py:808: UserWarning: Variables are collinear\n",
      "  warnings.warn(\"Variables are collinear\")\n",
      "D:\\Important\\Anaconda\\envs\\keras-gpu\\lib\\site-packages\\sklearn\\discriminant_analysis.py:833: RuntimeWarning: divide by zero encountered in power\n",
      "  X2 = np.dot(Xm, R * (S ** (-0.5)))\n",
      "D:\\Important\\Anaconda\\envs\\keras-gpu\\lib\\site-packages\\sklearn\\discriminant_analysis.py:833: RuntimeWarning: invalid value encountered in multiply\n",
      "  X2 = np.dot(Xm, R * (S ** (-0.5)))\n",
      "D:\\Important\\Anaconda\\envs\\keras-gpu\\lib\\site-packages\\sklearn\\discriminant_analysis.py:836: RuntimeWarning: divide by zero encountered in log\n",
      "  u = np.asarray([np.sum(np.log(s)) for s in self.scalings_])\n",
      "D:\\Important\\Anaconda\\envs\\keras-gpu\\lib\\site-packages\\sklearn\\discriminant_analysis.py:808: UserWarning: Variables are collinear\n",
      "  warnings.warn(\"Variables are collinear\")\n",
      "D:\\Important\\Anaconda\\envs\\keras-gpu\\lib\\site-packages\\sklearn\\discriminant_analysis.py:833: RuntimeWarning: divide by zero encountered in power\n",
      "  X2 = np.dot(Xm, R * (S ** (-0.5)))\n",
      "D:\\Important\\Anaconda\\envs\\keras-gpu\\lib\\site-packages\\sklearn\\discriminant_analysis.py:833: RuntimeWarning: invalid value encountered in multiply\n",
      "  X2 = np.dot(Xm, R * (S ** (-0.5)))\n",
      "D:\\Important\\Anaconda\\envs\\keras-gpu\\lib\\site-packages\\sklearn\\discriminant_analysis.py:836: RuntimeWarning: divide by zero encountered in log\n",
      "  u = np.asarray([np.sum(np.log(s)) for s in self.scalings_])\n",
      "D:\\Important\\Anaconda\\envs\\keras-gpu\\lib\\site-packages\\sklearn\\discriminant_analysis.py:808: UserWarning: Variables are collinear\n",
      "  warnings.warn(\"Variables are collinear\")\n",
      "D:\\Important\\Anaconda\\envs\\keras-gpu\\lib\\site-packages\\sklearn\\discriminant_analysis.py:833: RuntimeWarning: divide by zero encountered in power\n",
      "  X2 = np.dot(Xm, R * (S ** (-0.5)))\n",
      "D:\\Important\\Anaconda\\envs\\keras-gpu\\lib\\site-packages\\sklearn\\discriminant_analysis.py:833: RuntimeWarning: invalid value encountered in multiply\n",
      "  X2 = np.dot(Xm, R * (S ** (-0.5)))\n",
      "D:\\Important\\Anaconda\\envs\\keras-gpu\\lib\\site-packages\\sklearn\\discriminant_analysis.py:836: RuntimeWarning: divide by zero encountered in log\n",
      "  u = np.asarray([np.sum(np.log(s)) for s in self.scalings_])\n",
      "D:\\Important\\Anaconda\\envs\\keras-gpu\\lib\\site-packages\\sklearn\\discriminant_analysis.py:808: UserWarning: Variables are collinear\n",
      "  warnings.warn(\"Variables are collinear\")\n",
      "D:\\Important\\Anaconda\\envs\\keras-gpu\\lib\\site-packages\\sklearn\\discriminant_analysis.py:833: RuntimeWarning: divide by zero encountered in power\n",
      "  X2 = np.dot(Xm, R * (S ** (-0.5)))\n",
      "D:\\Important\\Anaconda\\envs\\keras-gpu\\lib\\site-packages\\sklearn\\discriminant_analysis.py:833: RuntimeWarning: invalid value encountered in multiply\n",
      "  X2 = np.dot(Xm, R * (S ** (-0.5)))\n",
      "D:\\Important\\Anaconda\\envs\\keras-gpu\\lib\\site-packages\\sklearn\\discriminant_analysis.py:836: RuntimeWarning: divide by zero encountered in log\n",
      "  u = np.asarray([np.sum(np.log(s)) for s in self.scalings_])\n"
     ]
    },
    {
     "data": {
      "text/plain": [
       "0.6900000000000001"
      ]
     },
     "execution_count": 442,
     "metadata": {},
     "output_type": "execute_result"
    }
   ],
   "source": [
    "accuracies_qda_cf = cross_val_score(estimator = qda_cf, X = X_train, y = y_train, cv = 10)\n",
    "accuracies_qda_cf.mean()"
   ]
  },
  {
   "cell_type": "code",
   "execution_count": 443,
   "id": "worthy-tender",
   "metadata": {},
   "outputs": [
    {
     "data": {
      "text/plain": [
       "0.09165151389911683"
      ]
     },
     "execution_count": 443,
     "metadata": {},
     "output_type": "execute_result"
    }
   ],
   "source": [
    "accuracies_qda_cf.std()"
   ]
  },
  {
   "cell_type": "code",
   "execution_count": 447,
   "id": "critical-injury",
   "metadata": {},
   "outputs": [
    {
     "data": {
      "image/png": "[encoded data removed]",
      "text/plain": [
       "<Figure size 540x360 with 1 Axes>"
      ]
     },
     "metadata": {},
     "output_type": "display_data"
    }
   ],
   "source": [
    "scores_10_qda_cf = pd.DataFrame(accuracies_qda_cf,columns=['Scores Quadratic Discriminant Analysis'])\n",
    "sns.catplot(x = ['Iter1','Iter2','Iter3','Iter4','Iter5','Iter6','Iter7','Iter8','Iter9','Iter10'],\n",
    "            y = 'Scores Quadratic Discriminant Analysis', kind='bar', data = scores_10_qda_cf, height=5, aspect=1.5)\n",
    "plt.title(\"Scores Quadratic Discriminant Analysis 5 CV\")\n",
    "plt.show()"
   ]
  },
  {
   "cell_type": "code",
   "execution_count": 445,
   "id": "illegal-alias",
   "metadata": {},
   "outputs": [
    {
     "name": "stderr",
     "output_type": "stream",
     "text": [
      "D:\\Important\\Anaconda\\envs\\keras-gpu\\lib\\site-packages\\sklearn\\discriminant_analysis.py:808: UserWarning: Variables are collinear\n",
      "  warnings.warn(\"Variables are collinear\")\n",
      "D:\\Important\\Anaconda\\envs\\keras-gpu\\lib\\site-packages\\sklearn\\discriminant_analysis.py:833: RuntimeWarning: divide by zero encountered in power\n",
      "  X2 = np.dot(Xm, R * (S ** (-0.5)))\n",
      "D:\\Important\\Anaconda\\envs\\keras-gpu\\lib\\site-packages\\sklearn\\discriminant_analysis.py:833: RuntimeWarning: invalid value encountered in multiply\n",
      "  X2 = np.dot(Xm, R * (S ** (-0.5)))\n",
      "D:\\Important\\Anaconda\\envs\\keras-gpu\\lib\\site-packages\\sklearn\\discriminant_analysis.py:836: RuntimeWarning: divide by zero encountered in log\n",
      "  u = np.asarray([np.sum(np.log(s)) for s in self.scalings_])\n",
      "D:\\Important\\Anaconda\\envs\\keras-gpu\\lib\\site-packages\\sklearn\\discriminant_analysis.py:808: UserWarning: Variables are collinear\n",
      "  warnings.warn(\"Variables are collinear\")\n",
      "D:\\Important\\Anaconda\\envs\\keras-gpu\\lib\\site-packages\\sklearn\\discriminant_analysis.py:833: RuntimeWarning: divide by zero encountered in power\n",
      "  X2 = np.dot(Xm, R * (S ** (-0.5)))\n",
      "D:\\Important\\Anaconda\\envs\\keras-gpu\\lib\\site-packages\\sklearn\\discriminant_analysis.py:833: RuntimeWarning: invalid value encountered in multiply\n",
      "  X2 = np.dot(Xm, R * (S ** (-0.5)))\n",
      "D:\\Important\\Anaconda\\envs\\keras-gpu\\lib\\site-packages\\sklearn\\discriminant_analysis.py:836: RuntimeWarning: divide by zero encountered in log\n",
      "  u = np.asarray([np.sum(np.log(s)) for s in self.scalings_])\n",
      "D:\\Important\\Anaconda\\envs\\keras-gpu\\lib\\site-packages\\sklearn\\discriminant_analysis.py:808: UserWarning: Variables are collinear\n",
      "  warnings.warn(\"Variables are collinear\")\n",
      "D:\\Important\\Anaconda\\envs\\keras-gpu\\lib\\site-packages\\sklearn\\discriminant_analysis.py:833: RuntimeWarning: divide by zero encountered in power\n",
      "  X2 = np.dot(Xm, R * (S ** (-0.5)))\n",
      "D:\\Important\\Anaconda\\envs\\keras-gpu\\lib\\site-packages\\sklearn\\discriminant_analysis.py:833: RuntimeWarning: invalid value encountered in multiply\n",
      "  X2 = np.dot(Xm, R * (S ** (-0.5)))\n",
      "D:\\Important\\Anaconda\\envs\\keras-gpu\\lib\\site-packages\\sklearn\\discriminant_analysis.py:836: RuntimeWarning: divide by zero encountered in log\n",
      "  u = np.asarray([np.sum(np.log(s)) for s in self.scalings_])\n",
      "D:\\Important\\Anaconda\\envs\\keras-gpu\\lib\\site-packages\\sklearn\\discriminant_analysis.py:808: UserWarning: Variables are collinear\n",
      "  warnings.warn(\"Variables are collinear\")\n",
      "D:\\Important\\Anaconda\\envs\\keras-gpu\\lib\\site-packages\\sklearn\\discriminant_analysis.py:833: RuntimeWarning: divide by zero encountered in power\n",
      "  X2 = np.dot(Xm, R * (S ** (-0.5)))\n",
      "D:\\Important\\Anaconda\\envs\\keras-gpu\\lib\\site-packages\\sklearn\\discriminant_analysis.py:833: RuntimeWarning: invalid value encountered in multiply\n",
      "  X2 = np.dot(Xm, R * (S ** (-0.5)))\n",
      "D:\\Important\\Anaconda\\envs\\keras-gpu\\lib\\site-packages\\sklearn\\discriminant_analysis.py:836: RuntimeWarning: divide by zero encountered in log\n",
      "  u = np.asarray([np.sum(np.log(s)) for s in self.scalings_])\n",
      "D:\\Important\\Anaconda\\envs\\keras-gpu\\lib\\site-packages\\sklearn\\discriminant_analysis.py:808: UserWarning: Variables are collinear\n",
      "  warnings.warn(\"Variables are collinear\")\n",
      "D:\\Important\\Anaconda\\envs\\keras-gpu\\lib\\site-packages\\sklearn\\discriminant_analysis.py:833: RuntimeWarning: divide by zero encountered in power\n",
      "  X2 = np.dot(Xm, R * (S ** (-0.5)))\n",
      "D:\\Important\\Anaconda\\envs\\keras-gpu\\lib\\site-packages\\sklearn\\discriminant_analysis.py:833: RuntimeWarning: invalid value encountered in multiply\n",
      "  X2 = np.dot(Xm, R * (S ** (-0.5)))\n",
      "D:\\Important\\Anaconda\\envs\\keras-gpu\\lib\\site-packages\\sklearn\\discriminant_analysis.py:836: RuntimeWarning: divide by zero encountered in log\n",
      "  u = np.asarray([np.sum(np.log(s)) for s in self.scalings_])\n"
     ]
    },
    {
     "data": {
      "text/plain": [
       "0.6866666666666665"
      ]
     },
     "execution_count": 445,
     "metadata": {},
     "output_type": "execute_result"
    }
   ],
   "source": [
    "accuracies_qda_cf_new = cross_val_score(estimator = qda_cf, X = X_train, y = y_train, cv = 5)\n",
    "accuracies_qda_cf_new.mean()"
   ]
  },
  {
   "cell_type": "code",
   "execution_count": 446,
   "id": "female-savannah",
   "metadata": {},
   "outputs": [
    {
     "data": {
      "text/plain": [
       "0.016329931618554516"
      ]
     },
     "execution_count": 446,
     "metadata": {},
     "output_type": "execute_result"
    }
   ],
   "source": [
    "accuracies_qda_cf_new.std()"
   ]
  },
  {
   "cell_type": "code",
   "execution_count": 448,
   "id": "danish-detail",
   "metadata": {},
   "outputs": [
    {
     "data": {
      "image/png": "[encoded data removed]",
      "text/plain": [
       "<Figure size 540x360 with 1 Axes>"
      ]
     },
     "metadata": {},
     "output_type": "display_data"
    }
   ],
   "source": [
    "scores_5_qda_cf = pd.DataFrame(accuracies_qda_cf_new,columns=['Scores Quadratic Discriminant Analysis'])\n",
    "sns.catplot(x = ['Iter1','Iter2','Iter3','Iter4','Iter5'],\n",
    "            y = 'Scores Quadratic Discriminant Analysis', kind='bar', data = scores_5_qda_cf, height=5, aspect=1.5)\n",
    "plt.title(\"Scores Quadratic Discriminant Analysis 5 CV\")\n",
    "plt.show()"
   ]
  },
  {
   "cell_type": "code",
   "execution_count": null,
   "id": "talented-investigation",
   "metadata": {},
   "outputs": [],
   "source": []
  }
 ],
 "metadata": {
  "kernelspec": {
   "display_name": "Python 3",
   "language": "python",
   "name": "python3"
  },
  "language_info": {
   "codemirror_mode": {
    "name": "ipython",
    "version": 3
   },
   "file_extension": ".py",
   "mimetype": "text/x-python",
   "name": "python",
   "nbconvert_exporter": "python",
   "pygments_lexer": "ipython3",
   "version": "3.6.13"
  }
 },
 "nbformat": 4,
 "nbformat_minor": 5
}

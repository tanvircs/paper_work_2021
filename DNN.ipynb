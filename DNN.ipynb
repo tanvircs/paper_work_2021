{
 "cells": [
  {
   "cell_type": "code",
   "execution_count": 1,
   "id": "white-wells",
   "metadata": {},
   "outputs": [],
   "source": [
    "import numpy as np\n",
    "import pandas as pd\n",
    "import seaborn as sns\n",
    "import matplotlib.pyplot as plt\n",
    "import tensorflow as tf\n",
    "import random\n",
    "import numpy as np\n",
    "from tensorflow import keras\n",
    "%matplotlib inline"
   ]
  },
  {
   "cell_type": "code",
   "execution_count": 2,
   "id": "amateur-membrane",
   "metadata": {},
   "outputs": [
    {
     "name": "stderr",
     "output_type": "stream",
     "text": [
      "Using TensorFlow backend.\n"
     ]
    }
   ],
   "source": [
    "from pandas import read_csv\n",
    "from keras.models import Sequential\n",
    "from keras.layers import Dense, Dropout\n",
    "from keras.wrappers.scikit_learn import KerasRegressor\n",
    "from sklearn.model_selection import cross_val_score\n",
    "from sklearn.model_selection import KFold\n",
    "from sklearn.preprocessing import StandardScaler\n",
    "from sklearn.pipeline import Pipeline\n",
    "from keras.regularizers import l1,l2\n",
    "from keras.optimizers import Adam\n",
    "from keras.callbacks import EarlyStopping\n",
    "from keras.models import model_from_json\n",
    "from sklearn.metrics import r2_score"
   ]
  },
  {
   "cell_type": "code",
   "execution_count": 3,
   "id": "compressed-corner",
   "metadata": {},
   "outputs": [
    {
     "data": {
      "text/html": [
       "<div>\n",
       "<style scoped>\n",
       "    .dataframe tbody tr th:only-of-type {\n",
       "        vertical-align: middle;\n",
       "    }\n",
       "\n",
       "    .dataframe tbody tr th {\n",
       "        vertical-align: top;\n",
       "    }\n",
       "\n",
       "    .dataframe thead th {\n",
       "        text-align: right;\n",
       "    }\n",
       "</style>\n",
       "<table border=\"1\" class=\"dataframe\">\n",
       "  <thead>\n",
       "    <tr style=\"text-align: right;\">\n",
       "      <th></th>\n",
       "      <th>teamMemberCount</th>\n",
       "      <th>femaleTeamMembersPercent</th>\n",
       "      <th>teamLeadGender</th>\n",
       "      <th>teamDistribution</th>\n",
       "      <th>teamMemberResponseCount</th>\n",
       "      <th>meetingHoursTotal</th>\n",
       "      <th>meetingHoursAverage</th>\n",
       "      <th>meetingHoursStandardDeviation</th>\n",
       "      <th>inPersonMeetingHoursTotal</th>\n",
       "      <th>inPersonMeetingHoursAverage</th>\n",
       "      <th>...</th>\n",
       "      <th>standardDeviationUniqueCommitMessagePercentByWeek</th>\n",
       "      <th>averageCommitMessageLengthTotalByWeek</th>\n",
       "      <th>standardDeviationCommitMessageLengthTotalByWeek</th>\n",
       "      <th>averageCommitCountByStudent</th>\n",
       "      <th>standardDeviationCommitCountByStudent</th>\n",
       "      <th>averageUniqueCommitMessageCountByStudent</th>\n",
       "      <th>issueCount</th>\n",
       "      <th>onTimeIssueCount</th>\n",
       "      <th>lateIssueCount</th>\n",
       "      <th>SE Process grade</th>\n",
       "    </tr>\n",
       "  </thead>\n",
       "  <tbody>\n",
       "    <tr>\n",
       "      <th>0</th>\n",
       "      <td>3</td>\n",
       "      <td>0.0000</td>\n",
       "      <td>0</td>\n",
       "      <td>1</td>\n",
       "      <td>1</td>\n",
       "      <td>2.000000</td>\n",
       "      <td>2.000000</td>\n",
       "      <td>0.000000</td>\n",
       "      <td>2.000000</td>\n",
       "      <td>2.000000</td>\n",
       "      <td>...</td>\n",
       "      <td>0.0</td>\n",
       "      <td>57.0</td>\n",
       "      <td>0.0</td>\n",
       "      <td>4.0</td>\n",
       "      <td>0.0</td>\n",
       "      <td>3.0</td>\n",
       "      <td>2</td>\n",
       "      <td>2</td>\n",
       "      <td>0</td>\n",
       "      <td>2</td>\n",
       "    </tr>\n",
       "    <tr>\n",
       "      <th>1</th>\n",
       "      <td>3</td>\n",
       "      <td>0.3333</td>\n",
       "      <td>1</td>\n",
       "      <td>1</td>\n",
       "      <td>3</td>\n",
       "      <td>9.714286</td>\n",
       "      <td>3.238095</td>\n",
       "      <td>3.299832</td>\n",
       "      <td>6.285715</td>\n",
       "      <td>2.095238</td>\n",
       "      <td>...</td>\n",
       "      <td>0.0</td>\n",
       "      <td>127.0</td>\n",
       "      <td>0.0</td>\n",
       "      <td>4.0</td>\n",
       "      <td>0.0</td>\n",
       "      <td>3.0</td>\n",
       "      <td>2</td>\n",
       "      <td>2</td>\n",
       "      <td>0</td>\n",
       "      <td>1</td>\n",
       "    </tr>\n",
       "    <tr>\n",
       "      <th>2</th>\n",
       "      <td>4</td>\n",
       "      <td>0.0000</td>\n",
       "      <td>0</td>\n",
       "      <td>1</td>\n",
       "      <td>3</td>\n",
       "      <td>4.000000</td>\n",
       "      <td>1.333333</td>\n",
       "      <td>0.471405</td>\n",
       "      <td>3.428572</td>\n",
       "      <td>1.142857</td>\n",
       "      <td>...</td>\n",
       "      <td>0.0</td>\n",
       "      <td>0.0</td>\n",
       "      <td>0.0</td>\n",
       "      <td>7.0</td>\n",
       "      <td>0.0</td>\n",
       "      <td>1.0</td>\n",
       "      <td>1</td>\n",
       "      <td>1</td>\n",
       "      <td>0</td>\n",
       "      <td>2</td>\n",
       "    </tr>\n",
       "    <tr>\n",
       "      <th>3</th>\n",
       "      <td>6</td>\n",
       "      <td>0.0000</td>\n",
       "      <td>0</td>\n",
       "      <td>0</td>\n",
       "      <td>1</td>\n",
       "      <td>2.000000</td>\n",
       "      <td>2.000000</td>\n",
       "      <td>0.000000</td>\n",
       "      <td>1.000000</td>\n",
       "      <td>1.000000</td>\n",
       "      <td>...</td>\n",
       "      <td>0.0</td>\n",
       "      <td>45.0</td>\n",
       "      <td>0.0</td>\n",
       "      <td>2.0</td>\n",
       "      <td>0.0</td>\n",
       "      <td>2.0</td>\n",
       "      <td>0</td>\n",
       "      <td>0</td>\n",
       "      <td>0</td>\n",
       "      <td>1</td>\n",
       "    </tr>\n",
       "    <tr>\n",
       "      <th>4</th>\n",
       "      <td>6</td>\n",
       "      <td>0.1667</td>\n",
       "      <td>0</td>\n",
       "      <td>0</td>\n",
       "      <td>3</td>\n",
       "      <td>11.000000</td>\n",
       "      <td>3.666667</td>\n",
       "      <td>1.699673</td>\n",
       "      <td>5.000000</td>\n",
       "      <td>1.666667</td>\n",
       "      <td>...</td>\n",
       "      <td>0.0</td>\n",
       "      <td>13.0</td>\n",
       "      <td>0.0</td>\n",
       "      <td>1.0</td>\n",
       "      <td>0.0</td>\n",
       "      <td>1.0</td>\n",
       "      <td>0</td>\n",
       "      <td>0</td>\n",
       "      <td>0</td>\n",
       "      <td>1</td>\n",
       "    </tr>\n",
       "  </tbody>\n",
       "</table>\n",
       "<p>5 rows × 85 columns</p>\n",
       "</div>"
      ],
      "text/plain": [
       "   teamMemberCount  femaleTeamMembersPercent  teamLeadGender  \\\n",
       "0                3                    0.0000               0   \n",
       "1                3                    0.3333               1   \n",
       "2                4                    0.0000               0   \n",
       "3                6                    0.0000               0   \n",
       "4                6                    0.1667               0   \n",
       "\n",
       "   teamDistribution  teamMemberResponseCount  meetingHoursTotal  \\\n",
       "0                 1                        1           2.000000   \n",
       "1                 1                        3           9.714286   \n",
       "2                 1                        3           4.000000   \n",
       "3                 0                        1           2.000000   \n",
       "4                 0                        3          11.000000   \n",
       "\n",
       "   meetingHoursAverage  meetingHoursStandardDeviation  \\\n",
       "0             2.000000                       0.000000   \n",
       "1             3.238095                       3.299832   \n",
       "2             1.333333                       0.471405   \n",
       "3             2.000000                       0.000000   \n",
       "4             3.666667                       1.699673   \n",
       "\n",
       "   inPersonMeetingHoursTotal  inPersonMeetingHoursAverage  ...  \\\n",
       "0                   2.000000                     2.000000  ...   \n",
       "1                   6.285715                     2.095238  ...   \n",
       "2                   3.428572                     1.142857  ...   \n",
       "3                   1.000000                     1.000000  ...   \n",
       "4                   5.000000                     1.666667  ...   \n",
       "\n",
       "   standardDeviationUniqueCommitMessagePercentByWeek  \\\n",
       "0                                                0.0   \n",
       "1                                                0.0   \n",
       "2                                                0.0   \n",
       "3                                                0.0   \n",
       "4                                                0.0   \n",
       "\n",
       "   averageCommitMessageLengthTotalByWeek  \\\n",
       "0                                   57.0   \n",
       "1                                  127.0   \n",
       "2                                    0.0   \n",
       "3                                   45.0   \n",
       "4                                   13.0   \n",
       "\n",
       "   standardDeviationCommitMessageLengthTotalByWeek  \\\n",
       "0                                              0.0   \n",
       "1                                              0.0   \n",
       "2                                              0.0   \n",
       "3                                              0.0   \n",
       "4                                              0.0   \n",
       "\n",
       "   averageCommitCountByStudent  standardDeviationCommitCountByStudent  \\\n",
       "0                          4.0                                    0.0   \n",
       "1                          4.0                                    0.0   \n",
       "2                          7.0                                    0.0   \n",
       "3                          2.0                                    0.0   \n",
       "4                          1.0                                    0.0   \n",
       "\n",
       "   averageUniqueCommitMessageCountByStudent  issueCount  onTimeIssueCount  \\\n",
       "0                                       3.0           2                 2   \n",
       "1                                       3.0           2                 2   \n",
       "2                                       1.0           1                 1   \n",
       "3                                       2.0           0                 0   \n",
       "4                                       1.0           0                 0   \n",
       "\n",
       "   lateIssueCount  SE Process grade  \n",
       "0               0                 2  \n",
       "1               0                 1  \n",
       "2               0                 2  \n",
       "3               0                 1  \n",
       "4               0                 1  \n",
       "\n",
       "[5 rows x 85 columns]"
      ]
     },
     "execution_count": 3,
     "metadata": {},
     "output_type": "execute_result"
    }
   ],
   "source": [
    "dataset1 = pd.read_csv(\"setapProcessT1.csv\")\n",
    "dataset1['SE Process grade'].replace(to_replace=[\"A\",\"F\"], value=[\"1\",\"2\"],inplace=True)\n",
    "dataset1.head()"
   ]
  },
  {
   "cell_type": "code",
   "execution_count": 4,
   "id": "defensive-elimination",
   "metadata": {},
   "outputs": [],
   "source": [
    "train = dataset1.loc[0:44]\n",
    "Xtrain = train.iloc[:,0:84]\n",
    "Ytrain = train.iloc[:,84]\n",
    "test = dataset1.loc[45:64]\n",
    "Xtest = test.iloc[:,0:84]\n",
    "Ytest = test.iloc[:,84]"
   ]
  },
  {
   "cell_type": "code",
   "execution_count": 5,
   "id": "loved-litigation",
   "metadata": {},
   "outputs": [],
   "source": [
    "scaler = StandardScaler()\n",
    "\n",
    "X_train = scaler.fit_transform(Xtrain)\n",
    "y_train = Ytrain.values.reshape(-1,1)\n",
    "y_train = scaler.fit_transform(y_train)\n",
    "\n",
    "X_test = scaler.fit_transform(Xtest)\n",
    "y_test = Ytest.values.reshape(-1,1)\n",
    "y_test = scaler.fit_transform(y_test)"
   ]
  },
  {
   "cell_type": "code",
   "execution_count": 6,
   "id": "general-details",
   "metadata": {},
   "outputs": [],
   "source": [
    "model = Sequential()\n",
    "model.add(Dense(16, activation='relu', kernel_regularizer=l2(0.001)))\n",
    "model.add(Dropout(0.2))\n",
    "# model.add(Dense(16, activation='relu'))\n",
    "# model.add(Dropout(0.2))\n",
    "# model.add(Dense(4, activation='relu'))\n",
    "model.add(Dense(2, activation='linear'))\n",
    "model.add(Dense(1,))\n",
    "model.compile(Adam(lr=0.003), loss='mse', metrics=['mae','mse'])"
   ]
  },
  {
   "cell_type": "code",
   "execution_count": 7,
   "id": "rural-middle",
   "metadata": {},
   "outputs": [],
   "source": [
    "earlystopper = EarlyStopping(monitor='val_loss', min_delta=0, patience=15, verbose=1, mode='auto')"
   ]
  },
  {
   "cell_type": "code",
   "execution_count": 8,
   "id": "prostate-bernard",
   "metadata": {},
   "outputs": [
    {
     "name": "stdout",
     "output_type": "stream",
     "text": [
      "Train on 36 samples, validate on 9 samples\n",
      "Epoch 1/40\n",
      "36/36 [==============================] - 1s 15ms/step - loss: 5.7763 - mae: 1.9554 - mse: 5.7493 - val_loss: 1.4180 - val_mae: 1.0072 - val_mse: 1.3911\n",
      "Epoch 2/40\n",
      "36/36 [==============================] - 0s 222us/step - loss: 4.3510 - mae: 1.7386 - mse: 4.3241 - val_loss: 1.4606 - val_mae: 1.0462 - val_mse: 1.4337\n",
      "Epoch 3/40\n",
      "36/36 [==============================] - 0s 222us/step - loss: 3.6539 - mae: 1.5644 - mse: 3.6271 - val_loss: 1.5145 - val_mae: 1.0832 - val_mse: 1.4876\n",
      "Epoch 4/40\n",
      "36/36 [==============================] - 0s 278us/step - loss: 2.6711 - mae: 1.3255 - mse: 2.6442 - val_loss: 1.5541 - val_mae: 1.1081 - val_mse: 1.5273\n",
      "Epoch 5/40\n",
      "36/36 [==============================] - 0s 194us/step - loss: 2.3008 - mae: 1.2636 - mse: 2.2739 - val_loss: 1.5820 - val_mae: 1.1236 - val_mse: 1.5552\n",
      "Epoch 6/40\n",
      "36/36 [==============================] - 0s 250us/step - loss: 1.8138 - mae: 1.0495 - mse: 1.7870 - val_loss: 1.6133 - val_mae: 1.1364 - val_mse: 1.5865\n",
      "Epoch 7/40\n",
      "36/36 [==============================] - 0s 306us/step - loss: 1.9446 - mae: 1.0931 - mse: 1.9178 - val_loss: 1.6386 - val_mae: 1.1445 - val_mse: 1.6118\n",
      "Epoch 8/40\n",
      "36/36 [==============================] - 0s 306us/step - loss: 1.7507 - mae: 1.0486 - mse: 1.7239 - val_loss: 1.6492 - val_mae: 1.1475 - val_mse: 1.6224\n",
      "Epoch 9/40\n",
      "36/36 [==============================] - 0s 279us/step - loss: 2.0352 - mae: 1.1220 - mse: 2.0084 - val_loss: 1.6405 - val_mae: 1.1447 - val_mse: 1.6137\n",
      "Epoch 10/40\n",
      "36/36 [==============================] - 0s 195us/step - loss: 1.2097 - mae: 0.9652 - mse: 1.1829 - val_loss: 1.6148 - val_mae: 1.1358 - val_mse: 1.5880\n",
      "Epoch 11/40\n",
      "36/36 [==============================] - 0s 250us/step - loss: 1.2184 - mae: 0.8923 - mse: 1.1916 - val_loss: 1.5775 - val_mae: 1.1229 - val_mse: 1.5507\n",
      "Epoch 12/40\n",
      "36/36 [==============================] - 0s 305us/step - loss: 1.1217 - mae: 0.9151 - mse: 1.0949 - val_loss: 1.5264 - val_mae: 1.1047 - val_mse: 1.4997\n",
      "Epoch 13/40\n",
      "36/36 [==============================] - 0s 305us/step - loss: 1.3476 - mae: 0.9160 - mse: 1.3208 - val_loss: 1.4640 - val_mae: 1.0815 - val_mse: 1.4372\n",
      "Epoch 14/40\n",
      "36/36 [==============================] - 0s 223us/step - loss: 1.4204 - mae: 0.9286 - mse: 1.3937 - val_loss: 1.4031 - val_mae: 1.0580 - val_mse: 1.3763\n",
      "Epoch 15/40\n",
      "36/36 [==============================] - 0s 194us/step - loss: 1.4264 - mae: 0.8590 - mse: 1.3996 - val_loss: 1.3369 - val_mae: 1.0319 - val_mse: 1.3102\n",
      "Epoch 16/40\n",
      "36/36 [==============================] - 0s 278us/step - loss: 1.0649 - mae: 0.8228 - mse: 1.0381 - val_loss: 1.2774 - val_mae: 1.0064 - val_mse: 1.2507\n",
      "Epoch 17/40\n",
      "36/36 [==============================] - 0s 250us/step - loss: 0.8405 - mae: 0.7148 - mse: 0.8138 - val_loss: 1.2246 - val_mae: 0.9810 - val_mse: 1.1979\n",
      "Epoch 18/40\n",
      "36/36 [==============================] - 0s 278us/step - loss: 0.6650 - mae: 0.6440 - mse: 0.6383 - val_loss: 1.1771 - val_mae: 0.9556 - val_mse: 1.1504\n",
      "Epoch 19/40\n",
      "36/36 [==============================] - 0s 250us/step - loss: 0.7970 - mae: 0.7384 - mse: 0.7703 - val_loss: 1.1387 - val_mae: 0.9328 - val_mse: 1.1120\n",
      "Epoch 20/40\n",
      "36/36 [==============================] - 0s 278us/step - loss: 0.7368 - mae: 0.6995 - mse: 0.7101 - val_loss: 1.1037 - val_mae: 0.9102 - val_mse: 1.0770\n",
      "Epoch 21/40\n",
      "36/36 [==============================] - 0s 250us/step - loss: 0.7995 - mae: 0.7319 - mse: 0.7728 - val_loss: 1.0726 - val_mae: 0.8879 - val_mse: 1.0459\n",
      "Epoch 22/40\n",
      "36/36 [==============================] - 0s 194us/step - loss: 0.7356 - mae: 0.6905 - mse: 0.7089 - val_loss: 1.0481 - val_mae: 0.8668 - val_mse: 1.0214\n",
      "Epoch 23/40\n",
      "36/36 [==============================] - 0s 278us/step - loss: 0.8662 - mae: 0.7941 - mse: 0.8396 - val_loss: 1.0274 - val_mae: 0.8459 - val_mse: 1.0007\n",
      "Epoch 24/40\n",
      "36/36 [==============================] - 0s 222us/step - loss: 0.6791 - mae: 0.6898 - mse: 0.6524 - val_loss: 1.0144 - val_mae: 0.8270 - val_mse: 0.9877\n",
      "Epoch 25/40\n",
      "36/36 [==============================] - 0s 167us/step - loss: 0.7590 - mae: 0.7077 - mse: 0.7323 - val_loss: 1.0086 - val_mae: 0.8101 - val_mse: 0.9819\n",
      "Epoch 26/40\n",
      "36/36 [==============================] - 0s 305us/step - loss: 0.7121 - mae: 0.7025 - mse: 0.6854 - val_loss: 1.0034 - val_mae: 0.7942 - val_mse: 0.9767\n",
      "Epoch 27/40\n",
      "36/36 [==============================] - 0s 222us/step - loss: 0.7484 - mae: 0.7046 - mse: 0.7217 - val_loss: 1.0033 - val_mae: 0.7795 - val_mse: 0.9766\n",
      "Epoch 28/40\n",
      "36/36 [==============================] - 0s 194us/step - loss: 0.6767 - mae: 0.6501 - mse: 0.6500 - val_loss: 1.0093 - val_mae: 0.7678 - val_mse: 0.9827\n",
      "Epoch 29/40\n",
      "36/36 [==============================] - 0s 250us/step - loss: 0.4507 - mae: 0.5646 - mse: 0.4240 - val_loss: 1.0191 - val_mae: 0.7693 - val_mse: 0.9925\n",
      "Epoch 30/40\n",
      "36/36 [==============================] - 0s 250us/step - loss: 0.5204 - mae: 0.5669 - mse: 0.4937 - val_loss: 1.0304 - val_mae: 0.7708 - val_mse: 1.0038\n",
      "Epoch 31/40\n",
      "36/36 [==============================] - 0s 194us/step - loss: 0.5988 - mae: 0.6009 - mse: 0.5721 - val_loss: 1.0434 - val_mae: 0.7722 - val_mse: 1.0168\n",
      "Epoch 32/40\n",
      "36/36 [==============================] - 0s 250us/step - loss: 0.4471 - mae: 0.5143 - mse: 0.4204 - val_loss: 1.0562 - val_mae: 0.7733 - val_mse: 1.0295\n",
      "Epoch 33/40\n",
      "36/36 [==============================] - 0s 250us/step - loss: 0.6431 - mae: 0.6111 - mse: 0.6164 - val_loss: 1.0670 - val_mae: 0.7745 - val_mse: 1.0403\n",
      "Epoch 34/40\n",
      "36/36 [==============================] - 0s 194us/step - loss: 0.4353 - mae: 0.4756 - mse: 0.4086 - val_loss: 1.0747 - val_mae: 0.7753 - val_mse: 1.0481\n",
      "Epoch 35/40\n",
      "36/36 [==============================] - 0s 250us/step - loss: 0.5604 - mae: 0.5711 - mse: 0.5337 - val_loss: 1.0789 - val_mae: 0.7754 - val_mse: 1.0522\n",
      "Epoch 36/40\n",
      "36/36 [==============================] - 0s 194us/step - loss: 0.3686 - mae: 0.4700 - mse: 0.3419 - val_loss: 1.0836 - val_mae: 0.7763 - val_mse: 1.0569\n",
      "Epoch 37/40\n",
      "36/36 [==============================] - 0s 222us/step - loss: 0.5530 - mae: 0.5366 - mse: 0.5263 - val_loss: 1.0832 - val_mae: 0.7762 - val_mse: 1.0565\n",
      "Epoch 38/40\n",
      "36/36 [==============================] - 0s 250us/step - loss: 0.4430 - mae: 0.4987 - mse: 0.4163 - val_loss: 1.0832 - val_mae: 0.7770 - val_mse: 1.0565\n",
      "Epoch 39/40\n",
      "36/36 [==============================] - 0s 167us/step - loss: 0.6213 - mae: 0.5926 - mse: 0.5946 - val_loss: 1.0838 - val_mae: 0.7785 - val_mse: 1.0571\n",
      "Epoch 40/40\n",
      "36/36 [==============================] - 0s 278us/step - loss: 0.5226 - mae: 0.5484 - mse: 0.4959 - val_loss: 1.0837 - val_mae: 0.7798 - val_mse: 1.0570\n"
     ]
    }
   ],
   "source": [
    "history = model.fit(X_train, y_train, epochs = 40, batch_size=50, validation_split = 0.2,shuffle = True, verbose = 1, \n",
    "                    callbacks = [earlystopper])"
   ]
  },
  {
   "cell_type": "code",
   "execution_count": 9,
   "id": "affected-sharp",
   "metadata": {},
   "outputs": [],
   "source": [
    "y_test_pred = model.predict(X_test)"
   ]
  },
  {
   "cell_type": "code",
   "execution_count": 10,
   "id": "resident-increase",
   "metadata": {},
   "outputs": [
    {
     "name": "stdout",
     "output_type": "stream",
     "text": [
      "The R2 score on the Test set is:\t-0.699\n"
     ]
    }
   ],
   "source": [
    "print(\"The R2 score on the Test set is:\\t{:0.3f}\".format(r2_score(y_test, y_test_pred)))"
   ]
  },
  {
   "cell_type": "code",
   "execution_count": 11,
   "id": "exceptional-morgan",
   "metadata": {},
   "outputs": [
    {
     "data": {
      "image/png": "[encoded data removed]",
      "text/plain": [
       "<Figure size 432x288 with 1 Axes>"
      ]
     },
     "metadata": {
      "needs_background": "light"
     },
     "output_type": "display_data"
    }
   ],
   "source": [
    "plt.plot(y_test,'b',label='Actual')\n",
    "plt.plot(y_test_pred,'g',label='Predicted')\n",
    "plt.legend(fontsize=14)\n",
    "plt.tight_layout()\n",
    "plt.title('Model Accuracy', fontsize=16)\n",
    "plt.xlabel('Actual Data', fontsize=14)\n",
    "plt.ylabel('Predicted Data', fontsize=14)\n",
    "plt.savefig('Prediction1WithoutAnything', dpi=400, bbox_inches = 'tight')"
   ]
  },
  {
   "cell_type": "code",
   "execution_count": 12,
   "id": "maritime-counter",
   "metadata": {},
   "outputs": [],
   "source": [
    "pred = scaler.inverse_transform(y_test_pred)"
   ]
  },
  {
   "cell_type": "code",
   "execution_count": 13,
   "id": "described-familiar",
   "metadata": {},
   "outputs": [],
   "source": [
    "prediction = pd.DataFrame(pred, columns=['predictions']).to_csv('PredictionTest.csv')"
   ]
  },
  {
   "cell_type": "code",
   "execution_count": 14,
   "id": "arctic-fellow",
   "metadata": {},
   "outputs": [
    {
     "name": "stdout",
     "output_type": "stream",
     "text": [
      "\r",
      "19/19 [==============================] - 0s 158us/step\n"
     ]
    },
    {
     "data": {
      "text/plain": [
       "[1.725542664527893, 1.0259259939193726, 1.698866844177246]"
      ]
     },
     "execution_count": 14,
     "metadata": {},
     "output_type": "execute_result"
    }
   ],
   "source": [
    "model.evaluate(X_test,y_test)"
   ]
  },
  {
   "cell_type": "code",
   "execution_count": null,
   "id": "danish-republic",
   "metadata": {},
   "outputs": [],
   "source": []
  }
 ],
 "metadata": {
  "kernelspec": {
   "display_name": "Python 3",
   "language": "python",
   "name": "python3"
  },
  "language_info": {
   "codemirror_mode": {
    "name": "ipython",
    "version": 3
   },
   "file_extension": ".py",
   "mimetype": "text/x-python",
   "name": "python",
   "nbconvert_exporter": "python",
   "pygments_lexer": "ipython3",
   "version": "3.6.13"
  }
 },
 "nbformat": 4,
 "nbformat_minor": 5
}
